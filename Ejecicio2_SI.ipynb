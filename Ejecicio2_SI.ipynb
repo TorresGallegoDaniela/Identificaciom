{
  "nbformat": 4,
  "nbformat_minor": 0,
  "metadata": {
    "colab": {
      "provenance": []
    },
    "kernelspec": {
      "name": "python3",
      "display_name": "Python 3"
    },
    "language_info": {
      "name": "python"
    }
  },
  "cells": [
    {
      "cell_type": "markdown",
      "source": [
        "**Integrantes**\n",
        "+ Edwin Perez\n",
        "+ Laura Cuartas \n",
        "+ Daniela Torres "
      ],
      "metadata": {
        "id": "fsMfCqNVa6mo"
      }
    },
    {
      "cell_type": "code",
      "execution_count": null,
      "metadata": {
        "colab": {
          "base_uri": "https://localhost:8080/"
        },
        "id": "x2_yE4Zmf4_N",
        "outputId": "c29ccf63-7fa0-411c-b292-00a02bfed109"
      },
      "outputs": [
        {
          "output_type": "stream",
          "name": "stdout",
          "text": [
            "Looking in indexes: https://pypi.org/simple, https://us-python.pkg.dev/colab-wheels/public/simple/\n",
            "Collecting control\n",
            "  Downloading control-0.9.3.post2-py3-none-any.whl (432 kB)\n",
            "\u001b[2K     \u001b[90m━━━━━━━━━━━━━━━━━━━━━━━━━━━━━━━━━━━━━━━\u001b[0m \u001b[32m432.8/432.8 KB\u001b[0m \u001b[31m7.8 MB/s\u001b[0m eta \u001b[36m0:00:00\u001b[0m\n",
            "\u001b[?25hRequirement already satisfied: scipy>=1.3 in /usr/local/lib/python3.9/dist-packages (from control) (1.10.1)\n",
            "Requirement already satisfied: matplotlib in /usr/local/lib/python3.9/dist-packages (from control) (3.7.1)\n",
            "Requirement already satisfied: numpy in /usr/local/lib/python3.9/dist-packages (from control) (1.22.4)\n",
            "Requirement already satisfied: pyparsing>=2.3.1 in /usr/local/lib/python3.9/dist-packages (from matplotlib->control) (3.0.9)\n",
            "Requirement already satisfied: contourpy>=1.0.1 in /usr/local/lib/python3.9/dist-packages (from matplotlib->control) (1.0.7)\n",
            "Requirement already satisfied: kiwisolver>=1.0.1 in /usr/local/lib/python3.9/dist-packages (from matplotlib->control) (1.4.4)\n",
            "Requirement already satisfied: cycler>=0.10 in /usr/local/lib/python3.9/dist-packages (from matplotlib->control) (0.11.0)\n",
            "Requirement already satisfied: packaging>=20.0 in /usr/local/lib/python3.9/dist-packages (from matplotlib->control) (23.0)\n",
            "Requirement already satisfied: fonttools>=4.22.0 in /usr/local/lib/python3.9/dist-packages (from matplotlib->control) (4.39.2)\n",
            "Requirement already satisfied: pillow>=6.2.0 in /usr/local/lib/python3.9/dist-packages (from matplotlib->control) (8.4.0)\n",
            "Requirement already satisfied: importlib-resources>=3.2.0 in /usr/local/lib/python3.9/dist-packages (from matplotlib->control) (5.12.0)\n",
            "Requirement already satisfied: python-dateutil>=2.7 in /usr/local/lib/python3.9/dist-packages (from matplotlib->control) (2.8.2)\n",
            "Requirement already satisfied: zipp>=3.1.0 in /usr/local/lib/python3.9/dist-packages (from importlib-resources>=3.2.0->matplotlib->control) (3.15.0)\n",
            "Requirement already satisfied: six>=1.5 in /usr/local/lib/python3.9/dist-packages (from python-dateutil>=2.7->matplotlib->control) (1.16.0)\n",
            "Installing collected packages: control\n",
            "Successfully installed control-0.9.3.post2\n"
          ]
        }
      ],
      "source": [
        "from sympy import MatrixSymbol, Matrix, Identity\n",
        "!pip install control\n",
        "import sympy as sym\n",
        "import pandas as pd\n",
        "\n",
        "sym.init_printing()\n",
        "%matplotlib inline\n",
        "\n",
        "import pandas as pd\n",
        "import numpy as np\n",
        "import matplotlib.pyplot as plt\n",
        "import seaborn as sns\n",
        "import control\n",
        "import random"
      ]
    },
    {
      "cell_type": "code",
      "source": [
        "N = 100\n",
        "t = np.linspace(0,10,N)\n",
        "#N =10\n",
        "#t = np.linspace(0,10,N)"
      ],
      "metadata": {
        "id": "LVugxB6of_Xn"
      },
      "execution_count": null,
      "outputs": []
    },
    {
      "cell_type": "code",
      "source": [
        "#p = [5, 4, 3, 2, 1]\n",
        "#y = np.polyval(p,t)\n",
        "y_x = np.sin(t+1)\n",
        "e = np.random.normal(0,0.1,size=N)\n",
        "## Señal con error incluido\n",
        "y = y_x + e"
      ],
      "metadata": {
        "id": "HdZLTYT_gdjb"
      },
      "execution_count": null,
      "outputs": []
    },
    {
      "cell_type": "code",
      "source": [
        "data = pd.DataFrame(data = {'t':t,'y':y})\n",
        "data['ones'] = 1\n",
        "data"
      ],
      "metadata": {
        "colab": {
          "base_uri": "https://localhost:8080/",
          "height": 424
        },
        "id": "nhBoGXXDhJcy",
        "outputId": "9050c100-282c-44d8-d796-98d2b001dccf"
      },
      "execution_count": null,
      "outputs": [
        {
          "output_type": "execute_result",
          "data": {
            "text/plain": [
              "           t         y  ones\n",
              "0    0.00000  0.977323     1\n",
              "1    0.10101  1.012324     1\n",
              "2    0.20202  1.008790     1\n",
              "3    0.30303  0.917329     1\n",
              "4    0.40404  1.078770     1\n",
              "..       ...       ...   ...\n",
              "95   9.59596 -1.002109     1\n",
              "96   9.69697 -0.959363     1\n",
              "97   9.79798 -1.062099     1\n",
              "98   9.89899 -0.815801     1\n",
              "99  10.00000 -0.988099     1\n",
              "\n",
              "[100 rows x 3 columns]"
            ],
            "text/html": [
              "\n",
              "  <div id=\"df-e54513a1-9a4c-49e0-aeb9-2d56cc2e11dc\">\n",
              "    <div class=\"colab-df-container\">\n",
              "      <div>\n",
              "<style scoped>\n",
              "    .dataframe tbody tr th:only-of-type {\n",
              "        vertical-align: middle;\n",
              "    }\n",
              "\n",
              "    .dataframe tbody tr th {\n",
              "        vertical-align: top;\n",
              "    }\n",
              "\n",
              "    .dataframe thead th {\n",
              "        text-align: right;\n",
              "    }\n",
              "</style>\n",
              "<table border=\"1\" class=\"dataframe\">\n",
              "  <thead>\n",
              "    <tr style=\"text-align: right;\">\n",
              "      <th></th>\n",
              "      <th>t</th>\n",
              "      <th>y</th>\n",
              "      <th>ones</th>\n",
              "    </tr>\n",
              "  </thead>\n",
              "  <tbody>\n",
              "    <tr>\n",
              "      <th>0</th>\n",
              "      <td>0.00000</td>\n",
              "      <td>0.977323</td>\n",
              "      <td>1</td>\n",
              "    </tr>\n",
              "    <tr>\n",
              "      <th>1</th>\n",
              "      <td>0.10101</td>\n",
              "      <td>1.012324</td>\n",
              "      <td>1</td>\n",
              "    </tr>\n",
              "    <tr>\n",
              "      <th>2</th>\n",
              "      <td>0.20202</td>\n",
              "      <td>1.008790</td>\n",
              "      <td>1</td>\n",
              "    </tr>\n",
              "    <tr>\n",
              "      <th>3</th>\n",
              "      <td>0.30303</td>\n",
              "      <td>0.917329</td>\n",
              "      <td>1</td>\n",
              "    </tr>\n",
              "    <tr>\n",
              "      <th>4</th>\n",
              "      <td>0.40404</td>\n",
              "      <td>1.078770</td>\n",
              "      <td>1</td>\n",
              "    </tr>\n",
              "    <tr>\n",
              "      <th>...</th>\n",
              "      <td>...</td>\n",
              "      <td>...</td>\n",
              "      <td>...</td>\n",
              "    </tr>\n",
              "    <tr>\n",
              "      <th>95</th>\n",
              "      <td>9.59596</td>\n",
              "      <td>-1.002109</td>\n",
              "      <td>1</td>\n",
              "    </tr>\n",
              "    <tr>\n",
              "      <th>96</th>\n",
              "      <td>9.69697</td>\n",
              "      <td>-0.959363</td>\n",
              "      <td>1</td>\n",
              "    </tr>\n",
              "    <tr>\n",
              "      <th>97</th>\n",
              "      <td>9.79798</td>\n",
              "      <td>-1.062099</td>\n",
              "      <td>1</td>\n",
              "    </tr>\n",
              "    <tr>\n",
              "      <th>98</th>\n",
              "      <td>9.89899</td>\n",
              "      <td>-0.815801</td>\n",
              "      <td>1</td>\n",
              "    </tr>\n",
              "    <tr>\n",
              "      <th>99</th>\n",
              "      <td>10.00000</td>\n",
              "      <td>-0.988099</td>\n",
              "      <td>1</td>\n",
              "    </tr>\n",
              "  </tbody>\n",
              "</table>\n",
              "<p>100 rows × 3 columns</p>\n",
              "</div>\n",
              "      <button class=\"colab-df-convert\" onclick=\"convertToInteractive('df-e54513a1-9a4c-49e0-aeb9-2d56cc2e11dc')\"\n",
              "              title=\"Convert this dataframe to an interactive table.\"\n",
              "              style=\"display:none;\">\n",
              "        \n",
              "  <svg xmlns=\"http://www.w3.org/2000/svg\" height=\"24px\"viewBox=\"0 0 24 24\"\n",
              "       width=\"24px\">\n",
              "    <path d=\"M0 0h24v24H0V0z\" fill=\"none\"/>\n",
              "    <path d=\"M18.56 5.44l.94 2.06.94-2.06 2.06-.94-2.06-.94-.94-2.06-.94 2.06-2.06.94zm-11 1L8.5 8.5l.94-2.06 2.06-.94-2.06-.94L8.5 2.5l-.94 2.06-2.06.94zm10 10l.94 2.06.94-2.06 2.06-.94-2.06-.94-.94-2.06-.94 2.06-2.06.94z\"/><path d=\"M17.41 7.96l-1.37-1.37c-.4-.4-.92-.59-1.43-.59-.52 0-1.04.2-1.43.59L10.3 9.45l-7.72 7.72c-.78.78-.78 2.05 0 2.83L4 21.41c.39.39.9.59 1.41.59.51 0 1.02-.2 1.41-.59l7.78-7.78 2.81-2.81c.8-.78.8-2.07 0-2.86zM5.41 20L4 18.59l7.72-7.72 1.47 1.35L5.41 20z\"/>\n",
              "  </svg>\n",
              "      </button>\n",
              "      \n",
              "  <style>\n",
              "    .colab-df-container {\n",
              "      display:flex;\n",
              "      flex-wrap:wrap;\n",
              "      gap: 12px;\n",
              "    }\n",
              "\n",
              "    .colab-df-convert {\n",
              "      background-color: #E8F0FE;\n",
              "      border: none;\n",
              "      border-radius: 50%;\n",
              "      cursor: pointer;\n",
              "      display: none;\n",
              "      fill: #1967D2;\n",
              "      height: 32px;\n",
              "      padding: 0 0 0 0;\n",
              "      width: 32px;\n",
              "    }\n",
              "\n",
              "    .colab-df-convert:hover {\n",
              "      background-color: #E2EBFA;\n",
              "      box-shadow: 0px 1px 2px rgba(60, 64, 67, 0.3), 0px 1px 3px 1px rgba(60, 64, 67, 0.15);\n",
              "      fill: #174EA6;\n",
              "    }\n",
              "\n",
              "    [theme=dark] .colab-df-convert {\n",
              "      background-color: #3B4455;\n",
              "      fill: #D2E3FC;\n",
              "    }\n",
              "\n",
              "    [theme=dark] .colab-df-convert:hover {\n",
              "      background-color: #434B5C;\n",
              "      box-shadow: 0px 1px 3px 1px rgba(0, 0, 0, 0.15);\n",
              "      filter: drop-shadow(0px 1px 2px rgba(0, 0, 0, 0.3));\n",
              "      fill: #FFFFFF;\n",
              "    }\n",
              "  </style>\n",
              "\n",
              "      <script>\n",
              "        const buttonEl =\n",
              "          document.querySelector('#df-e54513a1-9a4c-49e0-aeb9-2d56cc2e11dc button.colab-df-convert');\n",
              "        buttonEl.style.display =\n",
              "          google.colab.kernel.accessAllowed ? 'block' : 'none';\n",
              "\n",
              "        async function convertToInteractive(key) {\n",
              "          const element = document.querySelector('#df-e54513a1-9a4c-49e0-aeb9-2d56cc2e11dc');\n",
              "          const dataTable =\n",
              "            await google.colab.kernel.invokeFunction('convertToInteractive',\n",
              "                                                     [key], {});\n",
              "          if (!dataTable) return;\n",
              "\n",
              "          const docLinkHtml = 'Like what you see? Visit the ' +\n",
              "            '<a target=\"_blank\" href=https://colab.research.google.com/notebooks/data_table.ipynb>data table notebook</a>'\n",
              "            + ' to learn more about interactive tables.';\n",
              "          element.innerHTML = '';\n",
              "          dataTable['output_type'] = 'display_data';\n",
              "          await google.colab.output.renderOutput(dataTable, element);\n",
              "          const docLink = document.createElement('div');\n",
              "          docLink.innerHTML = docLinkHtml;\n",
              "          element.appendChild(docLink);\n",
              "        }\n",
              "      </script>\n",
              "    </div>\n",
              "  </div>\n",
              "  "
            ]
          },
          "metadata": {},
          "execution_count": 5
        }
      ]
    },
    {
      "cell_type": "code",
      "source": [
        "plt.plot(t,y)"
      ],
      "metadata": {
        "colab": {
          "base_uri": "https://localhost:8080/",
          "height": 282
        },
        "id": "GpoTqmFbhchp",
        "outputId": "d458ec3a-0d50-41ae-eb45-704f91c1a5a3"
      },
      "execution_count": null,
      "outputs": [
        {
          "output_type": "execute_result",
          "data": {
            "text/plain": [
              "[<matplotlib.lines.Line2D at 0x7f4014c9ebe0>]"
            ]
          },
          "metadata": {},
          "execution_count": 6
        },
        {
          "output_type": "display_data",
          "data": {
            "text/plain": [
              "<Figure size 432x288 with 1 Axes>"
            ],
            "image/png": "[encoded data removed]"
          },
          "metadata": {
            "needs_background": "light"
          }
        }
      ]
    },
    {
      "cell_type": "code",
      "source": [
        "orden = int(input(\"Digite el orden del polinomio que desea: \"))\n",
        "phi_v = []\n",
        "for i in range(orden+1):\n",
        "  for j in range(N):\n",
        "    phi = (data.t[j]**(orden-i))\n",
        "    #print(\"data.t[j]\", data.t[j], \"(orden-i)\", (orden-i))\n",
        "    phi_v.append(phi)\n",
        "phi_v"
      ],
      "metadata": {
        "colab": {
          "base_uri": "https://localhost:8080/",
          "height": 76
        },
        "id": "-Tmd8_gwRRAY",
        "outputId": "f8907c94-5200-40a4-a724-13fe4d5d2ce3"
      },
      "execution_count": null,
      "outputs": [
        {
          "name": "stdout",
          "output_type": "stream",
          "text": [
            "Digite el orden del polinomio que desea: 15\n"
          ]
        },
        {
          "output_type": "execute_result",
          "data": {
            "text/plain": [
              "[0.0, 1.162711802755614e-15, 3.809974035269596e-11, 1.668364352554266e-08, 1.2\n",
              "484522918771412e-06, 3.548314827745408e-05, 0.0005466896310449818, 0.005520045\n",
              "801918992, 0.04090928470023016, 0.23939204936916353, 1.1627118027556154, 4.856\n",
              "935749618865, 17.913925830081965, 59.51444194206948, 180.88086083728152, 509.1\n",
              "4439470039827, 1340.515441057142, 3328.173066470203, 7844.3986737287505, 17651\n",
              ".2755767677, 38099.740352696004, 79206.62384747597, 159152.07064351096, 310019\n",
              ".9353049698, 587003.5216001258, 1082859.749678162, 1950169.2335577328, 3435014\n",
              ".252937534, 5927104.047916041, 10033259.605038334, 16683643.52554265, 27283337\n",
              ".072670497, 43926009.97256043, 69691719.37625638, 109057575.04209562, 16845842\n",
              "9.01364118, 257045255.7407437, 387701911.3323869, 578396998.099524, 853967192.\n",
              "5836543, 1248452291.8771427, 1808131165.2860262, 2595442650.2340927, 369401721\n",
              "2.4983797, 5215095050.846567, 7305665569.127297, 10158733240.07325, 1402619750\n",
              "8.251314, 19234931395.792923, 26206756982.313072, 35483148277.45401, 477556458\n",
              "10.68576, 63903145445.21979, 85037429721.30371, 112558547040.25711, 1482219161\n",
              "87.09897, 194219345442.11282, 253276511682.41138, 328769850737.8961, 424866271\n",
              "676.4389, 546689631044.98157, 700518495383.1704, 894020389197.2668, 1136528479\n",
              "371.4148, 1439367494780.86, 1816236631532.882, 2283658260521.169, 286150244647\n",
              "1.256, 3573598618979.389, 4448447219837.032, 5520045801918.994, 6828845888992.\n",
              "117, 8422858940112.689, 10358932015278.623, 12704216230539.654, 15537853842175\n",
              ".227, 18952912833725.203, 23058601221156.652, 27982796966581.184, 338749334278\n",
              "56.637, 40909284700230.21, 49288700059075.195, 59248842024092.51, 710629883717\n",
              "09.92, 85047464762870.75, 101567781569525.4, 121045556019146.9, 14396630897955\n",
              "1.78, 170888234626140.3, 202452050923476.1, 239392049369163.28, 28254847384990\n",
              "6.4, 332881370810720.25, 391486066305402.0, 459610439950379.06, 53867418141991\n",
              "2.4, 630290231977342.5, 736288631718372.4, 858743012796434.8, 1000000000000000\n",
              ".0, 0.0, 1.1510846847280579e-14, 1.88593714745845e-10, 5.5056023634290773e-08,\n",
              " 3.0899194223959246e-06, 7.025663358935908e-05, 0.00090203789122422, 0.0078069\n",
              "2191985686, 0.05062523981653483, 0.2633312543060799, 1.1510846847280591, 4.371\n",
              "242174656977, 14.778988809817621, 45.32253655588368, 127.90860873493479, 336.0\n",
              "353005022629, 829.4439291541066, 1938.171374003236, 4314.419270550813, 9197.24\n",
              "3590000013, 18859.37147458452, 37340.26552809582, 71618.43178957992, 133443.36\n",
              "345735655, 242138.9526600519, 428812.4608725522, 742564.4389315982, 1259505.22\n",
              "60770958, 2095654.6455131716, 3425147.244478604, 5505602.363429075, 8713065.71\n",
              "030445, 13589609.335260883, 20907515.81287691, 31754999.79166902, 47649669.921\n",
              "00136, 70687445.32870452, 103736457.35650352, 150687638.9785602, 216776287.348\n",
              "1584, 308991942.2395928, 436597525.276382, 611782910.4123219, 850483032.644975\n",
              "8, 1173396386.4404774, 1607246425.2080054, 2186336066.8853297, 2954454368.7593\n",
              "193, 3967204600.3822904, 5294834573.977539, 7025663358.935895, 9270213598.5448\n",
              "84, 12166175767.455305, 15884350080.017107, 20635733624.04714, 26679944913.677\n",
              "814, 34335205712.087803, 43990130976.418816, 56117612453.537445, 71291120162.6\n",
              "5671, 90203789122.42197, 113690706627.76044, 142754868597.6281, 178597332472.6\n",
              "509, 222652159348.9143, 276626810033.4697, 342548739078.1753, 422819018209.931\n",
              "8, 520273916586.7052, 638255470672.2698, 780692191985.6863, 952191187338.3375,\n",
              " 1158143104265.4949, 1404841465085.7312, 1699618117328.9536, 2050996707167.130\n",
              "1, 2468866277024.7305, 2964677299862.998, 3551662691912.227, 4245086594123.806\n",
              "6, 5062523981653.488, 6024174451664.746, 7153213854128.243, 8476187769637.689,\n",
              " 10023451204195.482, 11829659265156.486, 13934314006855.283, 16382373090776.58\n",
              "4, 19224926395440.78, 22519947237555.207, 26333125430607.96, 30738790012242.56\n",
              "2, 35820930119849.24, 41674323187349.24, 48405780377752.69, 56135519958496.13,\n",
              " 64998680172663.445, 75146984061978.22, 86750569660048.0, 100000000000000.0, 0\n",
              ".0, 1.1395738378807772e-13, 9.335388879919327e-10, 1.8168487799315956e-07, 7.6\n",
              "47550570429913e-06, 0.00013910813450693097, 0.001488362520519963, 0.0110412181\n",
              "4379756, 0.06264873427296185, 0.2896643797366879, 1.1395738378807785, 3.934117\n",
              "9571912797, 12.192665768099538, 34.51485476178834, 90.4496590339896, 221.78329\n",
              "833149348, 513.2184311641034, 1128.6998001548257, 2372.9305988029473, 4792.247\n",
              "975842112, 9335.388879919337, 17603.268034673743, 32228.294305310963, 57438.66\n",
              "514034043, 99882.31797227141, 169809.73450553068, 282745.6902085701, 461818.58\n",
              "28949352, 740963.6068064428, 1169274.4041495926, 1816848.7799315946, 2782559.6\n",
              "945810984, 4204285.388096335, 6272254.743863073, 9246308.762868332, 13478049.4\n",
              "91940385, 19439047.465393744, 27756511.562956348, 39258095.418098584, 55027826\n",
              ".78837867, 76475505.70429921, 105422329.27405323, 144205971.7400473, 195808884\n",
              ".26012233, 264014186.9491074, 353594213.5457612, 470537544.8296688, 622321239.\n",
              "376963, 818235948.8288474, 1069772699.6403599, 1391081345.0693073, 1799512051.\n",
              "482242, 2316252694.1886063, 2967076713.059799, 3783217831.0753093, 4802390084.\n",
              "462007, 6069973866.95838, 7640391169.5885315, 9578695918.793463, 11962408298.4\n",
              "79685, 14883625205.199623, 18451442551.06276, 22794729018.008358, 28065295102.\n",
              "845146, 34441505899.28518, 42132391066.636154, 51382310861.726295, 62476242989\n",
              ".22874, 75745761385.41737, 91575784922.54306, 110412181437.97563, 132770320488\n",
              ".02173, 159244676836.50555, 190519595949.98273, 227381342723.7384, 27073156534\n",
              "6.0612, 321602317665.0636, 381172795696.6712, 450787957050.3981, 531979206099.\n",
              "0593, 626487342729.6191, 736287988536.8022, 863619721413.0441, 1011015167703.7\n",
              "726, 1181335320494.4675, 1377807373235.873, 1604066379858.922, 1864201075846.9\n",
              "907, 2162804219487.088, 2505027838784.231, 2896643797366.876, 3344110122211.00\n",
              "4, 3854643567244.647, 4436298919943.629, 5098055592976.081, 5849912079885.387,\n",
              " 6702988892805.918, 7669640641377.158, 8763577955453.828, 10000000000000.0, 0.\n",
              "0, 1.1281780995019695e-12, 4.621017495560067e-09, 5.995600973774265e-07, 1.892\n",
              "7687661814034e-05, 0.0002754341063237233, 0.002455798158857939, 0.015615437089\n",
              "085119, 0.07752780866279028, 0.3186308177103567, 1.1281780995019706, 3.5407061\n",
              "61472152, 10.058949258682118, 26.284389395515735, 63.96083031689265, 146.37697\n",
              "68987857, 317.553904282789, 657.3016483254573, 1305.111829341621, 2497.0134189\n",
              "914165, 4621.017495560071, 8298.68350206048, 14502.732437389934, 24723.5993430\n",
              "161, 41201.456163561954, 67244.65486419015, 107660.85896403245, 169333.4803948\n",
              "096, 261983.56097799228, 399166.0896924471, 599560.0973774262, 888623.90246299\n",
              "61, 1300700.7919423038, 1881676.4231589218, 2692307.5515410732, 3812362.570577\n",
              "423, 5345738.052983279, 7426742.283061293, 10227766.964188842, 13968602.184742\n",
              "277, 18927687.661814053, 25455635.605198223, 33991407.624439724, 45081580.3296\n",
              "5607, 59403192.06354917, 77790726.98006748, 101267862.90899394, 131084686.5921\n",
              "6881, 168761164.44594976, 216137749.51917472, 275434106.32372284, 349317045.28\n",
              "77294, 440978878.3166769, 554227536.9677738, 693589935.6971401, 864430215.2031\n",
              "612, 1073084665.7658564, 1327015308.4022186, 1634984303.3802633, 2007251561.94\n",
              "82863, 2455798158.857938, 2994578381.2380543, 3639803504.488432, 4410260659.01\n",
              "8523, 5327670443.795676, 6417087254.764584, 7707346629.258944, 9231564262.5875\n",
              "3, 11027691731.112236, 13139134358.45183, 15615437089.085125, 18513044687.7664\n",
              "1, 21896143065.019512, 25837589039.79218, 30419936391.419056, 35736566625.6800\n",
              "8, 41892933485.3175, 49007930875.2863, 57215394548.70437, 66665748612.41377, 7\n",
              "7527808662.79036, 89990754154.49806, 104266283438.89192, 120590965786.35359, 1\n",
              "39228805629.7051, 160474035235.70755, 184654153030.27127, 212133225872.2438, 2\n",
              "43315474692.2974, 278649164089.4819, 318630817710.3564, 363809782526.2521, 414\n",
              "793166475.2392, 472251175348.8379, 536922876281.52344, 609622416745.9509, 6912\n",
              "45729570.6102, 782777756181.7925, 885300222030.5397, 1000000000000.0, 0.0, 1.1\n",
              "168963185069498e-11, 2.287403660302233e-08, 1.9785483213455073e-06, 4.68460269\n",
              "62989735e-05, 0.0005453595305209721, 0.004052066962115599, 0.02208468959742038\n",
              ", 0.09594066322020298, 0.35049389948139237, 1.116896318506951, 3.1866355453249\n",
              "36, 8.298633138412747, 20.016573462738904, 45.22944429551694, 96.6088047531985\n",
              "7, 196.4864782749757, 382.7815481424722, 717.8115061378916, 1301.0754130534222\n",
              ", 2287.4036603022355, 3912.236508114226, 6526.229596825469, 10641.897108515626\n",
              ", 16995.600667469305, 26628.8833262193, 40993.942451689276, 62088.942811430185\n",
              ", 92629.9019172187, 136267.0444122492, 197854.83213455067, 283786.34304463427,\n",
              " 402404.3075071502, 564502.9269476765, 783936.6105957831, 1078353.9842490426, \n",
              "1470077.964570402, 1987155.3676299134, 2664602.4459334086, 3545875.939203809, \n",
              "4684602.696298978, 6146604.694913718, 8012260.368617935, 10379247.564269654, 1\n",
              "3365718.214298561, 17113959.935614847, 21794605.278240003, 27611455.26090364, \n",
              "34806990.16697714, 43668647.35183326, 54535953.05209713, 67808602.90879452, 83\n",
              "955594.14105964, 103525521.05624454, 127158154.87780902, 155597438.73656902, 1\n",
              "89706039.1264639, 230481606.1961748, 279074906.9562864, 336810007.85233957, 40\n",
              "5206696.2115598, 486005343.8402744, 581194430.555411, 693040960.7029108, 82412\n",
              "4021.7746437, 977371751.1102982, 1156101994.3888414, 1364066958.203232, 160550\n",
              "2178.5001638, 1885180147.0822191, 2208468959.742039, 2581396371.9561615, 30107\n",
              "19671.440183, 3504001801.2868843, 4069694192.9060626, 4717226794.58977, 545710\n",
              "5809.271621, 6301019683.965382, 7261953923.489401, 8354315332.441726, 95940663\n",
              "22.020308, 10998869952.21643, 12588246415.183294, 14383741702.227716, 16409109\n",
              "234.929531, 18690505280.394173, 21256699011.624252, 24139298116.496708, 273729\n",
              "90902.883453, 30995805893.09967, 35049389948.139206, 39579306011.097755, 44635\n",
              "351609.835526, 50271899311.3279, 56548260374.33066, 63529072902.9991, 71284715\n",
              "861.96918, 79891750373.19325, 89433389776.55452, 100000000000.0, 0.0, 1.105727\n",
              "3553218803e-10, 1.1322648118496054e-07, 6.529209460440174e-06, 0.0001159439167\n",
              "333996, 0.0010798118704315248, 0.0066859104874907385, 0.03123406100206597, 0.1\n",
              "1872657073500119, 0.38554328942953164, 1.1057273553218814, 2.8679719907924426,\n",
              " 6.846372339190516, 15.243390560085782, 31.983678466115553, 63.76181113711105,\n",
              " 121.57600843264122, 222.91396038885148, 394.7963283758404, 677.9287678541516,\n",
              " 1132.2648118496065, 1844.3400681109924, 2936.803318571461, 4580.642668448031,\n",
              " 7010.685275331089, 10545.037797182844, 15609.23193352784, 22765.945697524403,\n",
              " 32751.286749302326, 46518.749644181626, 65292.09460440172, 90628.54181102836,\n",
              " 124493.8326350246, 169350.87808430294, 228263.8954381839, 305020.1269733006, \n",
              "404271.4402568606, 531698.3280955714, 694199.0582826512, 900106.9691825054, 11\n",
              "59439.167333997, 1484180.1580401417, 1888604.2297456563, 2389640.718285339, 30\n",
              "07286.5982171763, 3765071.185835267, 4690578.092490784, 5816029.937935023, 717\n",
              "8941.721939035, 8822849.15883978, 10798118.704315232, 13162846.447001291, 1598\n",
              "3853.499932509, 19337786.00861926, 23312328.39426499, 28007538.972582426, 3353\n",
              "7317.63128558, 40031015.81301983, 47635199.635641985, 56515577.58878241, 66859\n",
              "104.87490736, 78876277.11506093, 92803626.81449305, 108906436.68188599, 127481\n",
              "684.6182652, 148861235.9383377, 173415299.1583262, 201556162.4807761, 23374222\n",
              "8.92870033, 270482368.92918795, 312340610.0206598, 359941184.2586761, 41397395\n",
              "4.8230252, 475200244.28411174, 544459087.9698651, 622673936.8858497, 710859835\n",
              ".6814349, 810131102.2241205, 921709536.4428855, 1046933187.2300391, 1187265707\n",
              ".350013, 1344306327.4931192, 1519800481.833105, 1715651118.6994505, 1933930731\n",
              ".259552, 2176894144.42238, 2446992095.524187, 2746885647.739281, 3079461476.57\n",
              "43885, 3447848071.254907, 3855432894.2953134, 4305880544.064481, 4803151966.71\n",
              "0563, 5351524765.399422, 5955614656.445463, 6620398123.575696, 7351236323.2655\n",
              "72, 8153900295.820755, 9034597538.651936, 10000000000.0, 0.0, 1.09467008176866\n",
              "15e-09, 5.604710818655547e-07, 2.1546391219452575e-05, 0.000286961193915164, 0\n",
              ".0021380275034544186, 0.011031752304359719, 0.04417388627435044, 0.14692413128\n",
              "456397, 0.4240976183724848, 1.0946700817686623, 2.5811747917131984, 5.64825717\n",
              "9832176, 11.608428195757634, 22.617029772467426, 42.0827953504933, 75.22515521\n",
              "769675, 129.8146004617429, 217.1379806067122, 353.236568513479, 560.4710818655\n",
              "551, 869.4746035380393, 1321.5614933571576, 1971.667931201544, 2891.9076760740\n",
              "74, 4175.834967684406, 5943.515236227909, 8347.513422425614, 11579.91924350332\n",
              "2, 15880.538671634418, 21546.39121945257, 28942.663352554224, 38515.2794714607\n",
              "4, 50805.26342529088, 66465.07543641237, 86277.12162959074, 111174.64607063665\n",
              ", 142265.2283282745, 180857.12307890126, 228488.69217709752, 286961.1939151642\n",
              ", 358375.20889261964, 445170.99701147614, 550173.0956052293, 676639.4845988647\n",
              ", 828315.6608837588, 1009493.9807751905, 1225078.6465012068, 1480656.730149926\n",
              ", 1782575.646377833, 2138027.503454416, 2555140.7808884857, 3043079.800948689,\n",
              " 3612152.4808552954, 4273926.872281915, 5041357.0150648365, 5928918.652673701,\n",
              " 6952755.3780508125, 8130835.799876822, 9483122.341168573, 11031752.304359715,\n",
              " 12801231.85965743, 14818643.636507763, 17113868.62143923, 19719823.089387897,\n",
              " 22672711.319839127, 26012294.873748932, 29782179.232234083, 34030118.62344313\n",
              "4, 38808339.889840014, 44173886.27435046, 50188982.03043512, 56921418.78816596\n",
              "4, 64444964.6357905, 72839796.90407655, 82192959.66893217, 92598847.01639745, \n",
              "104159713.1431012, 116986210.39467393, 131197956.37439732, 146924131.28456408,\n",
              " 164304106.69360346, 183488106.95302126, 204637904.519573, 227927550.46987578,\n",
              " 253544141.52684188, 281688624.9498774, 312576642.67378026, 346439416.1146187,\n",
              " 383524673.094647, 424097618.3724845, 468441949.2993226, 516860918.15689754, 5\n",
              "69678442.7683254, 627240267.0086179, 689915172.8778884, 758096245.8367621, 832\n",
              "202195.1404688, 912678730.9454505, 1000000000.0, 0.0, 1.083723380950975e-08, 2\n",
              ".774331855234496e-06, 7.11030910241935e-05, 0.0007102289549400309, 0.004233294\n",
              "456839749, 0.018202391302193536, 0.06247449630229562, 0.18181861246464792, 0.4\n",
              "665073802097333, 1.0837233809509756, 2.323057312541878, 4.659812173361545, 8.8\n",
              "40264549076966, 15.99347105338768, 27.774644931325575, 46.54556479094987, 75.5\n",
              "979143865444, 119.42588933369173, 184.0548435938654, 277.43318552344977, 409.8\n",
              "9517023936145, 594.7026720107208, 848.6744573432733, 1192.9119163805556, 1653.\n",
              "630647203025, 2263.1077245637034, 3060.7549215560593, 4094.328589667246, 5421.\n",
              "287339626922, 7110.309102419347, 9242.979586783445, 11915.664586483166, 15241.\n",
              "579027587264, 19353.066082955367, 24404.100118084236, 30573.027669425082, 3806\n",
              "5.56109324102, 47118.03996002954, 58000.975706493984, 71022.89549400314, 86534\n",
              ".50165943743, 104933.16358127653, 126667.75922073882, 152243.88403474452, 1822\n",
              "29.44539442696, 217260.66107987796, 258048.48085876487, 305385.4505934222, 360\n",
              "153.0387579703, 423329.4456839744, 495997.9162901179, 579355.5774883081, 67472\n",
              "2.8218956118, 783553.2599183512, 907444.2627116706, 1048148.118954815, 1207583\n",
              ".8288193515, 1387849.5589444921, 1591235.782670659, 1820239.130219353, 2077576\n",
              ".9739444023, 2366202.774216562, 2689322.21194045, 3050410.1341396905, 3453228.\n",
              "3394831903, 3901844.2310623396, 4400650.364165932, 4954384.917236574, 5568153.\n",
              "114629219, 6247449.630229564, 6998182.001426869, 7826695.083372821, 8739796.57\n",
              "3894875, 9744783.639869701, 10849470.676299049, 12062218.229767563, 13391963.1\n",
              "18398726, 14848249.78086246, 16441262.887424476, 18181861.246464804, 20081613.\n",
              "04032931, 22152832.424815983, 24408617.527033407, 26862889.876806792, 29530435\n",
              ".307243936, 32426946.36050914, 35569066.23529224, 38974434.3128946, 42661733.2\n",
              "9929219, 46650738.0209733, 50962365.91278345, 55618729.23644876, 60643189.0688\n",
              "8626, 66060411.09984381, 71896423.27885364, 78178675.35191609, 84936100.328769\n",
              "5, 92199177.9220404, 100000000.0, 0.0, 1.0728861471414652e-07, 1.3732942683410\n",
              "754e-05, 0.00023464020037983853, 0.0017578166634765766, 0.008381923024542702, \n",
              "0.03003394564861933, 0.08835678762753238, 0.2250005329250018, 0.51315811823070\n",
              "67, 1.072886147141466, 2.0907515812876905, 3.8443450430232744, 6.7322014642970\n",
              "744, 11.309668816324145, 18.33126565467488, 28.80006821440023, 44.024667789811\n",
              "154, 65.68423913353045, 95.90226060943513, 137.32942683410764, 193.23629454141\n",
              "326, 267.6162024048244, 365.29900555210463, 492.0761655069791, 654.83773629239\n",
              "8, 861.7217874300255, 1122.276804570555, 1447.6376084894905, 1850.715333182984\n",
              ", 2346.4020037983846, 2951.7902551340685, 3686.4087314432295, 4572.47370827617\n",
              "85, 5635.157477095828, 6902.874033400969, 8407.582609091898, 10185.10958981313\n",
              "7, 12275.489358007697, 14723.324602417702, 17578.166634765777, 20894.916254351\n",
              "967, 24734.245701300897, 29163.042239193357, 34254.87390781752, 40090.47798677\n",
              "3934, 46758.27271066939, 54354.89277663345, 62985.74918489333, 72765.613953140\n",
              "94, 83819.23024542694, 96281.948456317, 110300.38879104327, 126033.13088238785\n",
              ", 143651.43098503104, 163339.9672881007, 185297.61388665478, 209738.2439528347\n",
              "5, 236891.56264742196, 267003.9703125343, 300339.45648619323, 337180.525279501\n",
              "34, 377829.15265716077, 422607.7761620708, 471860.3176247334, 525953.239398209\n",
              ", 585276.6346593508, 650245.3523170557, 721300.157068266, 798908.9251424532, 8\n",
              "83567.876275324, 975802.8424524791, 1076170.573963763, 1185260.083309031, 1303\n",
              "694.0274960815, 1432130.1292714744, 1571262.6378249852, 1721823.8295084077, 18\n",
              "84585.549109466, 2060360.7922215485, 2250005.3292500195, 2454419.371595805, 26\n",
              "74549.2805570518, 2911389.3194895266, 3165983.449766515, 3439427.171078999, 37\n",
              "32869.4066167497, 4047514.433671186, 4384623.860200643, 4745518.647898795, 513\n",
              "1581.182307064, 5544257.390511606, 5985058.906965682, 6455565.287978214, 69574\n",
              "26.275409082, 7492364.110112117, 8062175.895666346, 8668736.01293627, 9313998.\n",
              "58600204, 10000000.0, 0.0, 1.0621572856700506e-06, 6.797806628288324e-05, 0.00\n",
              "07743126612534671, 0.004350596242104527, 0.01659620758859455, 0.04955601032022\n",
              "1895, 0.1249617425017958, 0.27843815949468975, 0.5644739300537773, 1.062157285\n",
              "6700512, 1.8816764231589211, 3.1715846604942013, 5.126830345887773, 7.99755152\n",
              "0114931, 12.09863533208542, 17.820042207660144, 25.637894771713558, 36.1263315\n",
              "2344175, 49.9701252649162, 67.97806628288328, 91.09711028380912, 120.427291082\n",
              "17095, 157.23739804199286, 202.98141827162888, 259.3157435717896, 328.11714213\n",
              "681745, 411.50149500920355, 511.8432972873556, 631.7959240866049, 774.31266125\n",
              "34669, 942.6685008331381, 1140.4827012902492, 1371.7421124828536, 1640.8252653\n",
              "896677, 1952.5272265905598, 2312.085217500272, 2725.2049983554066, 3198.088016\n",
              "9546367, 3737.459322152186, 4350.59624210453, 5045.3578272703535, 5830.2150581\n",
              "63783, 6714.281817860796, 7707.346629258941, 8819.905157090267, 10063.19347468\n",
              "7543, 11449.222095503641, 12990.810769384248, 14701.62404359378, 16596.2075885\n",
              "94534, 18690.02528857918, 20999.497096756317, 23542.037655389428, 26336.095680\n",
              "589027, 29401.19411185813, 32757.97102639076, 36428.22131812393, 40434.9391415\n",
              "42716, 44802.36112023881, 49556.01032022188, 54722.740987984645, 60330.7840533\n",
              "2084, 66409.79339689684, 72990.89288257595, 80106.72415449645, 87791.495198902\n",
              "63, 96081.02967072913, 105012.81698493873, 114626.06317261285, 124961.74250179\n",
              "583, 136062.64986309214, 147973.4539200174, 160740.75102410148, 174413.1198947\n",
              "4602, 189041.17706383465, 204677.63308509675, 221377.34950822385, 239197.39661\n",
              "77399, 258197.11193662442, 278438.1594946899, 299984.5898617095, 322902.900945\n",
              "3026, 347262.09955357003, 373133.76372248214, 400592.1058080246, 429714.036343\n",
              "09093, 460579.22865913506, 493270.1842725722, 527872.2990359333, 564473.930053\n",
              "7771, 603166.4633633505, 644044.3823800028, 687205.3371073583, 732750.21411223\n",
              "3, 780783.2072643155, 831411.8892405919, 884747.2837945266, 940903.9387900019,\n",
              " 1000000.0, 0.0, 1.0515357128133501e-05, 0.00033649142810027204, 0.00255523178\n",
              "21364414, 0.010767725699208705, 0.0328604910254172, 0.08176741702836612, 0.176\n",
              "73160725253978, 0.3445672223746786, 0.620921323059155, 1.0515357128133505, 1.6\n",
              "935087808430291, 2.616557344907716, 3.9042784941760726, 5.655411432081273, 7.9\n",
              "85099319176378, 11.026151115989714, 14.930303425880249, 19.86948233789296, 26.\n",
              "03706526961423, 33.649142810027215, 42.945780562367155, 54.19228098697693, 67.\n",
              "68044524416214, 83.72983503704691, 102.6890344544287, 124.93691181363432, 150.\n",
              "88388150337465, 180.97316582660073, 215.68205684335828, 255.5231782136441, 301\n",
              ".04574704026027, 352.83683571167086, 411.5226337448561, 477.76970962816796, 55\n",
              "2.2862726641869, 635.8234348125748, 729.1764725329332, 833.1860886276554, 948.\n",
              "7396740847856, 1076.7725699208709, 1218.2693290238171, 1374.264977995749, 1545\n",
              ".8462789958576, 1734.1529915832618, 1940.3791345598588, 2165.7742478131886, 24\n",
              "11.6446541592777, 2679.354721185501, 2970.328123093437, 3286.049102541718, 362\n",
              "8.0637324889003, 3997.9811780362984, 4397.4749582708555, 4828.284208107989, 52\n",
              "92.214940134464, 5791.1413064512235, 6327.0068605162605, 6901.825818987465, 75\n",
              "17.684323565496, 8176.741702836611, 8881.23173411554, 9633.463905288329, 10435\n",
              ".824676655218, 11290.778742773467, 12200.870294300228, 13168.724279835395, 141\n",
              "97.047667764453, 15288.630708101375, 16446.348194331407, 17673.16072525398, 18\n",
              "972.115966825528, 20346.349914002392, 21799.088152583623, 23333.647121053862, \n",
              "24953.435372426175, 26661.954836084973, 28462.802079628782, 30359.66957071314,\n",
              " 32356.346938893443, 34456.72223746787, 36664.78320532005, 38984.61852876215, \n",
              "41420.41910337763, 43976.47929586397, 46657.1982058758, 49467.08092786744, 524\n",
              "10.73981293606, 55492.89573066438, 58718.37933096338, 62092.13230591548, 65619\n",
              ".20865161726, 69304.77593002204, 73154.1165307833, 77172.62893309689, 81365.82\n",
              "896754445, 85739.35107793604, 90298.94958315272, 95050.49993898999, 100000.0, \n",
              "0.0, 0.00010410203556852167, 0.0016656325690963467, 0.008432264881050257, 0.02\n",
              "6650121105541547, 0.06506377223032606, 0.13491623809680411, 0.2499489874000205\n",
              "3, 0.42640193768866474, 0.6830134553650706, 1.041020355685217, 1.5241579027587\n",
              "26, 2.158659809548866, 2.973258237872548, 3.9991837984003284, 5.27016555065641\n",
              ", 6.822431003018636, 8.694706112718498, 10.92821528584113, 13.566681377325311,\n",
              " 16.65632569096347, 20.24586797940166, 24.386526444139616, 29.132017735530667,\n",
              " 34.53855695278185, 40.664857643953766, 47.572131805960765, 55.32408988457071,\n",
              " 63.986940774405255, 73.62939181893955, 84.32264881050256, 96.14041599027667, \n",
              "109.15889604829817, 123.45679012345681, 139.11529780349596, 156.21811712501287\n",
              ", 174.85144457345808, 195.10397508313616, 217.06690203720498, 240.833917267676\n",
              "36, 266.5012110554155, 294.1674721301413, 323.93388767042654, 355.904143303697\n",
              "5, 390.18442310623385, 426.883409603169, 466.11228376849067, 507.9847250250394\n",
              ", 552.6169112445097, 600.1275187474495, 650.6377223032603, 704.2711951301983, \n",
              "761.1541088953722, 821.4151337147446, 885.1854381531314, 952.5986892242034, 10\n",
              "23.7910523904841, 1098.9011915633505, 1178.0702691030328, 1261.4419458186171, \n",
              "1349.162380968041, 1441.380232258096, 1538.2466558444266, 1639.9153063315343, \n",
              "1746.5423367727708, 1858.2863986703424, 1975.308641975309, 2097.7727150875835,\n",
              " 2225.8447648559354, 2359.6934365779844, 2499.489874000206, 2645.4077193179255\n",
              ", 2797.6231131753293, 2956.3146946654506, 3121.6636013301786, 3293.85346916025\n",
              "54, 3473.0704325952797, 3659.5031245237005, 3853.3426762828217, 4054.782717658\n",
              "799, 4264.019376886648, 4481.251280650228, 4706.67955408226, 4940.50782076432,\n",
              " 5182.942202726825, 5434.191320449063, 5694.46629285916, 5963.980737334104, 62\n",
              "42.950769699742, 6531.595004230758, 6830.134553650704, 7138.793029131987, 7457\n",
              ".796540295851, 7787.3736952124145, 8127.75560040063, 8479.175860828318, 8841.8\n",
              "70579912154, 9216.078359517649, 9602.040299959192, 10000.0, 0.0, 0.00103061015\n",
              "21283645, 0.008244881217026916, 0.027826474107465846, 0.06595904973621533, 0.1\n",
              "288262690160456, 0.22261179285972676, 0.353499282180029, 0.5276723978897226, 0\n",
              ".7513148009015777, 1.0306101521283648, 1.3717421124828535, 1.7808943428778141,\n",
              " 2.264250504226017, 2.827994257440232, 3.47830926343323, 4.221379183117781, 5.\n",
              "063387677406655, 6.010518407212621, 7.068955033448452, 8.244881217026919, 9.54\n",
              "4480618860783, 10.973936899862828, 12.539433720945809, 14.247154743022513, 16.\n",
              "10328362700569, 18.114004033808136, 20.285499624342595, 22.623954059521857, 25\n",
              ".135551000258676, 27.82647410746584, 30.7029070420561, 33.77103346494225, 37.0\n",
              "37037037037045, 40.50710141925324, 44.187410272503634, 48.08414725770097, 52.2\n",
              "0349603575805, 56.551640267587615, 61.13476361410246, 65.95904973621535, 71.03\n",
              "0682294839, 76.35584495088627, 81.94072136526988, 87.79149519890262, 93.914350\n",
              "11269719, 100.31546976756647, 107.0010378244232, 113.9772379441801, 121.250253\n",
              "78774998, 128.82626901604553, 136.71146728997968, 144.9120322704651, 153.43414\n",
              "761841456, 162.28399699474076, 171.46776406035664, 180.99163247617486, 190.861\n",
              "78590310823, 201.0844080020694, 211.66568243397137, 222.61179285972673, 233.92\n",
              "892294024833, 245.6232563364488, 257.70097670924116, 270.168267719538, 283.031\n",
              "3130282521, 296.29629629629636, 309.96940118458326, 324.0568113540259, 338.564\n",
              "7104655369, 353.49928218002907, 368.866710158415, 384.67317806160776, 400.9248\n",
              "6955052, 417.6279682860644, 434.7886579291537, 452.4131221407009, 470.50754458\n",
              "16186, 489.0781089128197, 508.1309987952166, 527.6723978897228, 547.7084898572\n",
              "501, 568.245458358712, 589.2894870550213, 610.8467596070901, 632.9234596758321\n",
              ", 655.525770922159, 678.6598770069843, 702.331961591221, 726.5482083357809, 75\n",
              "1.3148009015775, 776.6379229495238, 802.5237581405318, 828.978490135515, 856.0\n",
              "083025953855, 883.6193791810564, 911.8179035534408, 940.6100593734508, 970.002\n",
              "0303019999, 1000.0, 0.0, 0.010203040506070809, 0.040812162024283234, 0.0918273\n",
              "6455463729, 0.16324864809713294, 0.25507601265177027, 0.36730945821854916, 0.4\n",
              "9994898479746963, 0.6529945923885317, 0.8264462809917354, 1.020304050607081, 1\n",
              ".234567901234568, 1.4692378328741966, 1.7243138455259668, 1.9997959391898785, \n",
              "2.295684113865932, 2.611978369554127, 2.9486787062544635, 3.305785123966942, 3\n",
              ".683297622691562, 4.081216202428324, 4.499540863177226, 4.938271604938272, 5.3\n",
              "97408427711458, 5.8769513314967865, 6.376900316294255, 6.897255382103867, 7.43\n",
              "8016528925619, 7.999183756759514, 8.58075706560555, 9.182736455463727, 9.80512\n",
              "1926334046, 10.447913478216508, 11.111111111111112, 11.794714825017854, 12.498\n",
              "724619936741, 13.223140495867767, 13.967962452810939, 14.733190490766248, 15.5\n",
              "188246097337, 16.324864809713297, 17.151311090705025, 17.998163452708905, 18.8\n",
              "65421895724925, 19.75308641975309, 20.661157024793383, 21.58963371084583, 22.5\n",
              "38516477910417, 23.507805325987146, 24.497500255076016, 25.50760126517702, 26.\n",
              "538108356290174, 27.58902152841547, 28.660340781552907, 29.752066115702476, 30\n",
              ".864197530864196, 31.996735027038056, 33.149678604224064, 34.3230282624222, 35\n",
              ".51678400163248, 36.73094582185491, 37.96551372308948, 39.22048770533618, 40.4\n",
              "9586776859504, 41.79165391286603, 43.10784613814917, 44.44444444444445, 45.801\n",
              "448831751856, 47.178859300071416, 48.576675849403124, 49.994898479746965, 51.4\n",
              "3352719110294, 52.89256198347107, 54.37200285685134, 55.871849811243756, 57.39\n",
              "210284664829, 58.93276196306499, 60.49382716049382, 62.0752984389348, 63.67717\n",
              "579838791, 65.29945923885319, 66.94214876033058, 68.6052443628201, 70.28874604\n",
              "63218, 71.99265381083562, 73.7169676563616, 75.4616875828997, 77.2268135904499\n",
              "4, 79.01234567901236, 80.81828384858687, 82.64462809917353, 84.49137843077237,\n",
              " 86.35853484338332, 88.24609733700643, 90.15406591164167, 92.08244056728904, 9\n",
              "4.03122130394858, 96.00040812162024, 97.99000102030406, 100.0, 0.0, 0.10101010\n",
              "101010101, 0.20202020202020202, 0.30303030303030304, 0.40404040404040403, 0.50\n",
              "50505050505051, 0.6060606060606061, 0.7070707070707071, 0.8080808080808081, 0.\n",
              "9090909090909091, 1.0101010101010102, 1.1111111111111112, 1.2121212121212122, \n",
              "1.3131313131313131, 1.4141414141414141, 1.5151515151515151, 1.6161616161616161\n",
              ", 1.7171717171717171, 1.8181818181818181, 1.9191919191919191, 2.02020202020202\n",
              "03, 2.121212121212121, 2.2222222222222223, 2.323232323232323, 2.42424242424242\n",
              "43, 2.525252525252525, 2.6262626262626263, 2.727272727272727, 2.82828282828282\n",
              "83, 2.929292929292929, 3.0303030303030303, 3.131313131313131, 3.23232323232323\n",
              "23, 3.3333333333333335, 3.4343434343434343, 3.5353535353535355, 3.636363636363\n",
              "6362, 3.7373737373737375, 3.8383838383838382, 3.9393939393939394, 4.0404040404\n",
              "04041, 4.141414141414141, 4.242424242424242, 4.343434343434343, 4.444444444444\n",
              "445, 4.545454545454545, 4.646464646464646, 4.747474747474747, 4.84848484848484\n",
              "9, 4.94949494949495, 5.05050505050505, 5.151515151515151, 5.252525252525253, 5\n",
              ".353535353535354, 5.454545454545454, 5.555555555555555, 5.656565656565657, 5.7\n",
              "57575757575758, 5.858585858585858, 5.959595959595959, 6.0606060606060606, 6.16\n",
              "1616161616162, 6.262626262626262, 6.363636363636363, 6.4646464646464645, 6.565\n",
              "656565656566, 6.666666666666667, 6.767676767676767, 6.8686868686868685, 6.9696\n",
              "9696969697, 7.070707070707071, 7.171717171717171, 7.2727272727272725, 7.373737\n",
              "373737374, 7.474747474747475, 7.575757575757575, 7.6767676767676765, 7.7777777\n",
              "77777778, 7.878787878787879, 7.979797979797979, 8.080808080808081, 8.181818181\n",
              "818182, 8.282828282828282, 8.383838383838384, 8.484848484848484, 8.58585858585\n",
              "8587, 8.686868686868687, 8.787878787878787, 8.88888888888889, 8.98989898989899\n",
              ", 9.09090909090909, 9.191919191919192, 9.292929292929292, 9.393939393939394, 9\n",
              ".494949494949495, 9.595959595959595, 9.696969696969697, 9.797979797979798, 9.8\n",
              "989898989899, 10.0, 1.0, 1.0, 1.0, 1.0, 1.0, 1.0, 1.0, 1.0, 1.0, 1.0, 1.0, 1.0\n",
              ", 1.0, 1.0, 1.0, 1.0, 1.0, 1.0, 1.0, 1.0, 1.0, 1.0, 1.0, 1.0, 1.0, 1.0, 1.0, 1\n",
              ".0, 1.0, 1.0, 1.0, 1.0, 1.0, 1.0, 1.0, 1.0, 1.0, 1.0, 1.0, 1.0, 1.0, 1.0, 1.0,\n",
              " 1.0, 1.0, 1.0, 1.0, 1.0, 1.0, 1.0, 1.0, 1.0, 1.0, 1.0, 1.0, 1.0, 1.0, 1.0, 1.\n",
              "0, 1.0, 1.0, 1.0, 1.0, 1.0, 1.0, 1.0, 1.0, 1.0, 1.0, 1.0, 1.0, 1.0, 1.0, 1.0, \n",
              "1.0, 1.0, 1.0, 1.0, 1.0, 1.0, 1.0, 1.0, 1.0, 1.0, 1.0, 1.0, 1.0, 1.0, 1.0, 1.0\n",
              ", 1.0, 1.0, 1.0, 1.0, 1.0, 1.0, 1.0, 1.0, 1.0, 1.0]"
            ],
            "text/latex": "$\\displaystyle \\left[ 0.0, \\  1.16271180275561 \\cdot 10^{-15}, \\  3.8099740352696 \\cdot 10^{-11}, \\  1.66836435255427 \\cdot 10^{-8}, \\  1.24845229187714 \\cdot 10^{-6}, \\  3.54831482774541 \\cdot 10^{-5}, \\  0.000546689631044982, \\  0.00552004580191899, \\  0.0409092847002302, \\  0.239392049369164, \\  1.16271180275562, \\  4.85693574961886, \\  17.913925830082, \\  59.5144419420695, \\  180.880860837282, \\  509.144394700398, \\  1340.51544105714, \\  3328.1730664702, \\  7844.39867372875, \\  17651.2755767677, \\  38099.740352696, \\  79206.623847476, \\  159152.070643511, \\  310019.93530497, \\  587003.521600126, \\  1082859.74967816, \\  1950169.23355773, \\  3435014.25293753, \\  5927104.04791604, \\  10033259.6050383, \\  16683643.5255427, \\  27283337.0726705, \\  43926009.9725604, \\  69691719.3762564, \\  109057575.042096, \\  168458429.013641, \\  257045255.740744, \\  387701911.332387, \\  578396998.099524, \\  853967192.583654, \\  1248452291.87714, \\  1808131165.28603, \\  2595442650.23409, \\  3694017212.49838, \\  5215095050.84657, \\  7305665569.1273, \\  10158733240.0732, \\  14026197508.2513, \\  19234931395.7929, \\  26206756982.3131, \\  35483148277.454, \\  47755645810.6858, \\  63903145445.2198, \\  85037429721.3037, \\  112558547040.257, \\  148221916187.099, \\  194219345442.113, \\  253276511682.411, \\  328769850737.896, \\  424866271676.439, \\  546689631044.982, \\  700518495383.17, \\  894020389197.267, \\  1136528479371.41, \\  1439367494780.86, \\  1816236631532.88, \\  2283658260521.17, \\  2861502446471.26, \\  3573598618979.39, \\  4448447219837.03, \\  5520045801918.99, \\  6828845888992.12, \\  8422858940112.69, \\  10358932015278.6, \\  12704216230539.7, \\  15537853842175.2, \\  18952912833725.2, \\  23058601221156.7, \\  27982796966581.2, \\  33874933427856.6, \\  40909284700230.2, \\  49288700059075.2, \\  59248842024092.5, \\  71062988371709.9, \\  85047464762870.8, \\  101567781569525.0, \\  121045556019147.0, \\  143966308979552.0, \\  170888234626140.0, \\  202452050923476.0, \\  239392049369163.0, \\  282548473849906.0, \\  332881370810720.0, \\  391486066305402.0, \\  459610439950379.0, \\  538674181419912.0, \\  630290231977343.0, \\  736288631718372.0, \\  858743012796435.0, \\  1.0 \\cdot 10^{15}, \\  0.0, \\  1.15108468472806 \\cdot 10^{-14}, \\  1.88593714745845 \\cdot 10^{-10}, \\  5.50560236342908 \\cdot 10^{-8}, \\  3.08991942239592 \\cdot 10^{-6}, \\  7.02566335893591 \\cdot 10^{-5}, \\  0.00090203789122422, \\  0.00780692191985686, \\  0.0506252398165348, \\  0.26333125430608, \\  1.15108468472806, \\  4.37124217465698, \\  14.7789888098176, \\  45.3225365558837, \\  127.908608734935, \\  336.035300502263, \\  829.443929154107, \\  1938.17137400324, \\  4314.41927055081, \\  9197.24359000001, \\  18859.3714745845, \\  37340.2655280958, \\  71618.4317895799, \\  133443.363457357, \\  242138.952660052, \\  428812.460872552, \\  742564.438931598, \\  1259505.2260771, \\  2095654.64551317, \\  3425147.2444786, \\  5505602.36342908, \\  8713065.71030445, \\  13589609.3352609, \\  20907515.8128769, \\  31754999.791669, \\  47649669.9210014, \\  70687445.3287045, \\  103736457.356504, \\  150687638.97856, \\  216776287.348158, \\  308991942.239593, \\  436597525.276382, \\  611782910.412322, \\  850483032.644976, \\  1173396386.44048, \\  1607246425.20801, \\  2186336066.88533, \\  2954454368.75932, \\  3967204600.38229, \\  5294834573.97754, \\  7025663358.93589, \\  9270213598.54488, \\  12166175767.4553, \\  15884350080.0171, \\  20635733624.0471, \\  26679944913.6778, \\  34335205712.0878, \\  43990130976.4188, \\  56117612453.5374, \\  71291120162.6567, \\  90203789122.422, \\  113690706627.76, \\  142754868597.628, \\  178597332472.651, \\  222652159348.914, \\  276626810033.47, \\  342548739078.175, \\  422819018209.932, \\  520273916586.705, \\  638255470672.27, \\  780692191985.686, \\  952191187338.338, \\  1158143104265.49, \\  1404841465085.73, \\  1699618117328.95, \\  2050996707167.13, \\  2468866277024.73, \\  2964677299863.0, \\  3551662691912.23, \\  4245086594123.81, \\  5062523981653.49, \\  6024174451664.75, \\  7153213854128.24, \\  8476187769637.69, \\  10023451204195.5, \\  11829659265156.5, \\  13934314006855.3, \\  16382373090776.6, \\  19224926395440.8, \\  22519947237555.2, \\  26333125430608.0, \\  30738790012242.6, \\  35820930119849.2, \\  41674323187349.2, \\  48405780377752.7, \\  56135519958496.1, \\  64998680172663.4, \\  75146984061978.2, \\  86750569660048.0, \\  100000000000000.0, \\  0.0, \\  1.13957383788078 \\cdot 10^{-13}, \\  9.33538887991933 \\cdot 10^{-10}, \\  1.8168487799316 \\cdot 10^{-7}, \\  7.64755057042991 \\cdot 10^{-6}, \\  0.000139108134506931, \\  0.00148836252051996, \\  0.0110412181437976, \\  0.0626487342729618, \\  0.289664379736688, \\  1.13957383788078, \\  3.93411795719128, \\  12.1926657680995, \\  34.5148547617883, \\  90.4496590339896, \\  221.783298331493, \\  513.218431164103, \\  1128.69980015483, \\  2372.93059880295, \\  4792.24797584211, \\  9335.38887991934, \\  17603.2680346737, \\  32228.294305311, \\  57438.6651403404, \\  99882.3179722714, \\  169809.734505531, \\  282745.69020857, \\  461818.582894935, \\  740963.606806443, \\  1169274.40414959, \\  1816848.77993159, \\  2782559.6945811, \\  4204285.38809634, \\  6272254.74386307, \\  9246308.76286833, \\  13478049.4919404, \\  19439047.4653937, \\  27756511.5629563, \\  39258095.4180986, \\  55027826.7883787, \\  76475505.7042992, \\  105422329.274053, \\  144205971.740047, \\  195808884.260122, \\  264014186.949107, \\  353594213.545761, \\  470537544.829669, \\  622321239.376963, \\  818235948.828847, \\  1069772699.64036, \\  1391081345.06931, \\  1799512051.48224, \\  2316252694.18861, \\  2967076713.0598, \\  3783217831.07531, \\  4802390084.46201, \\  6069973866.95838, \\  7640391169.58853, \\  9578695918.79346, \\  11962408298.4797, \\  14883625205.1996, \\  18451442551.0628, \\  22794729018.0084, \\  28065295102.8451, \\  34441505899.2852, \\  42132391066.6362, \\  51382310861.7263, \\  62476242989.2287, \\  75745761385.4174, \\  91575784922.5431, \\  110412181437.976, \\  132770320488.022, \\  159244676836.506, \\  190519595949.983, \\  227381342723.738, \\  270731565346.061, \\  321602317665.064, \\  381172795696.671, \\  450787957050.398, \\  531979206099.059, \\  626487342729.619, \\  736287988536.802, \\  863619721413.044, \\  1011015167703.77, \\  1181335320494.47, \\  1377807373235.87, \\  1604066379858.92, \\  1864201075846.99, \\  2162804219487.09, \\  2505027838784.23, \\  2896643797366.88, \\  3344110122211.0, \\  3854643567244.65, \\  4436298919943.63, \\  5098055592976.08, \\  5849912079885.39, \\  6702988892805.92, \\  7669640641377.16, \\  8763577955453.83, \\  10000000000000.0, \\  0.0, \\  1.12817809950197 \\cdot 10^{-12}, \\  4.62101749556007 \\cdot 10^{-9}, \\  5.99560097377426 \\cdot 10^{-7}, \\  1.8927687661814 \\cdot 10^{-5}, \\  0.000275434106323723, \\  0.00245579815885794, \\  0.0156154370890851, \\  0.0775278086627903, \\  0.318630817710357, \\  1.12817809950197, \\  3.54070616147215, \\  10.0589492586821, \\  26.2843893955157, \\  63.9608303168926, \\  146.376976898786, \\  317.553904282789, \\  657.301648325457, \\  1305.11182934162, \\  2497.01341899142, \\  4621.01749556007, \\  8298.68350206048, \\  14502.7324373899, \\  24723.5993430161, \\  41201.456163562, \\  67244.6548641901, \\  107660.858964032, \\  169333.48039481, \\  261983.560977992, \\  399166.089692447, \\  599560.097377426, \\  888623.902462996, \\  1300700.7919423, \\  1881676.42315892, \\  2692307.55154107, \\  3812362.57057742, \\  5345738.05298328, \\  7426742.28306129, \\  10227766.9641888, \\  13968602.1847423, \\  18927687.6618141, \\  25455635.6051982, \\  33991407.6244397, \\  45081580.3296561, \\  59403192.0635492, \\  77790726.9800675, \\  101267862.908994, \\  131084686.592169, \\  168761164.44595, \\  216137749.519175, \\  275434106.323723, \\  349317045.287729, \\  440978878.316677, \\  554227536.967774, \\  693589935.69714, \\  864430215.203161, \\  1073084665.76586, \\  1327015308.40222, \\  1634984303.38026, \\  2007251561.94829, \\  2455798158.85794, \\  2994578381.23805, \\  3639803504.48843, \\  4410260659.01852, \\  5327670443.79568, \\  6417087254.76458, \\  7707346629.25894, \\  9231564262.58753, \\  11027691731.1122, \\  13139134358.4518, \\  15615437089.0851, \\  18513044687.7664, \\  21896143065.0195, \\  25837589039.7922, \\  30419936391.4191, \\  35736566625.6801, \\  41892933485.3175, \\  49007930875.2863, \\  57215394548.7044, \\  66665748612.4138, \\  77527808662.7904, \\  89990754154.4981, \\  104266283438.892, \\  120590965786.354, \\  139228805629.705, \\  160474035235.708, \\  184654153030.271, \\  212133225872.244, \\  243315474692.297, \\  278649164089.482, \\  318630817710.356, \\  363809782526.252, \\  414793166475.239, \\  472251175348.838, \\  536922876281.523, \\  609622416745.951, \\  691245729570.61, \\  782777756181.792, \\  885300222030.54, \\  1000000000000.0, \\  0.0, \\  1.11689631850695 \\cdot 10^{-11}, \\  2.28740366030223 \\cdot 10^{-8}, \\  1.97854832134551 \\cdot 10^{-6}, \\  4.68460269629897 \\cdot 10^{-5}, \\  0.000545359530520972, \\  0.0040520669621156, \\  0.0220846895974204, \\  0.095940663220203, \\  0.350493899481392, \\  1.11689631850695, \\  3.18663554532494, \\  8.29863313841275, \\  20.0165734627389, \\  45.2294442955169, \\  96.6088047531986, \\  196.486478274976, \\  382.781548142472, \\  717.811506137892, \\  1301.07541305342, \\  2287.40366030224, \\  3912.23650811423, \\  6526.22959682547, \\  10641.8971085156, \\  16995.6006674693, \\  26628.8833262193, \\  40993.9424516893, \\  62088.9428114302, \\  92629.9019172187, \\  136267.044412249, \\  197854.832134551, \\  283786.343044634, \\  402404.30750715, \\  564502.926947676, \\  783936.610595783, \\  1078353.98424904, \\  1470077.9645704, \\  1987155.36762991, \\  2664602.44593341, \\  3545875.93920381, \\  4684602.69629898, \\  6146604.69491372, \\  8012260.36861794, \\  10379247.5642697, \\  13365718.2142986, \\  17113959.9356148, \\  21794605.27824, \\  27611455.2609036, \\  34806990.1669771, \\  43668647.3518333, \\  54535953.0520971, \\  67808602.9087945, \\  83955594.1410596, \\  103525521.056245, \\  127158154.877809, \\  155597438.736569, \\  189706039.126464, \\  230481606.196175, \\  279074906.956286, \\  336810007.85234, \\  405206696.21156, \\  486005343.840274, \\  581194430.555411, \\  693040960.702911, \\  824124021.774644, \\  977371751.110298, \\  1156101994.38884, \\  1364066958.20323, \\  1605502178.50016, \\  1885180147.08222, \\  2208468959.74204, \\  2581396371.95616, \\  3010719671.44018, \\  3504001801.28688, \\  4069694192.90606, \\  4717226794.58977, \\  5457105809.27162, \\  6301019683.96538, \\  7261953923.4894, \\  8354315332.44173, \\  9594066322.02031, \\  10998869952.2164, \\  12588246415.1833, \\  14383741702.2277, \\  16409109234.9295, \\  18690505280.3942, \\  21256699011.6243, \\  24139298116.4967, \\  27372990902.8835, \\  30995805893.0997, \\  35049389948.1392, \\  39579306011.0978, \\  44635351609.8355, \\  50271899311.3279, \\  56548260374.3307, \\  63529072902.9991, \\  71284715861.9692, \\  79891750373.1933, \\  89433389776.5545, \\  100000000000.0, \\  0.0, \\  1.10572735532188 \\cdot 10^{-10}, \\  1.13226481184961 \\cdot 10^{-7}, \\  6.52920946044017 \\cdot 10^{-6}, \\  0.0001159439167334, \\  0.00107981187043152, \\  0.00668591048749074, \\  0.031234061002066, \\  0.118726570735001, \\  0.385543289429532, \\  1.10572735532188, \\  2.86797199079244, \\  6.84637233919052, \\  15.2433905600858, \\  31.9836784661156, \\  63.7618111371111, \\  121.576008432641, \\  222.913960388851, \\  394.79632837584, \\  677.928767854152, \\  1132.26481184961, \\  1844.34006811099, \\  2936.80331857146, \\  4580.64266844803, \\  7010.68527533109, \\  10545.0377971828, \\  15609.2319335278, \\  22765.9456975244, \\  32751.2867493023, \\  46518.7496441816, \\  65292.0946044017, \\  90628.5418110284, \\  124493.832635025, \\  169350.878084303, \\  228263.895438184, \\  305020.126973301, \\  404271.440256861, \\  531698.328095571, \\  694199.058282651, \\  900106.969182505, \\  1159439.167334, \\  1484180.15804014, \\  1888604.22974566, \\  2389640.71828534, \\  3007286.59821718, \\  3765071.18583527, \\  4690578.09249078, \\  5816029.93793502, \\  7178941.72193903, \\  8822849.15883978, \\  10798118.7043152, \\  13162846.4470013, \\  15983853.4999325, \\  19337786.0086193, \\  23312328.394265, \\  28007538.9725824, \\  33537317.6312856, \\  40031015.8130198, \\  47635199.635642, \\  56515577.5887824, \\  66859104.8749074, \\  78876277.1150609, \\  92803626.814493, \\  108906436.681886, \\  127481684.618265, \\  148861235.938338, \\  173415299.158326, \\  201556162.480776, \\  233742228.9287, \\  270482368.929188, \\  312340610.02066, \\  359941184.258676, \\  413973954.823025, \\  475200244.284112, \\  544459087.969865, \\  622673936.88585, \\  710859835.681435, \\  810131102.22412, \\  921709536.442886, \\  1046933187.23004, \\  1187265707.35001, \\  1344306327.49312, \\  1519800481.83311, \\  1715651118.69945, \\  1933930731.25955, \\  2176894144.42238, \\  2446992095.52419, \\  2746885647.73928, \\  3079461476.57439, \\  3447848071.25491, \\  3855432894.29531, \\  4305880544.06448, \\  4803151966.71056, \\  5351524765.39942, \\  5955614656.44546, \\  6620398123.5757, \\  7351236323.26557, \\  8153900295.82076, \\  9034597538.65194, \\  10000000000.0, \\  0.0, \\  1.09467008176866 \\cdot 10^{-9}, \\  5.60471081865555 \\cdot 10^{-7}, \\  2.15463912194526 \\cdot 10^{-5}, \\  0.000286961193915164, \\  0.00213802750345442, \\  0.0110317523043597, \\  0.0441738862743504, \\  0.146924131284564, \\  0.424097618372485, \\  1.09467008176866, \\  2.5811747917132, \\  5.64825717983218, \\  11.6084281957576, \\  22.6170297724674, \\  42.0827953504933, \\  75.2251552176968, \\  129.814600461743, \\  217.137980606712, \\  353.236568513479, \\  560.471081865555, \\  869.474603538039, \\  1321.56149335716, \\  1971.66793120154, \\  2891.90767607407, \\  4175.83496768441, \\  5943.51523622791, \\  8347.51342242561, \\  11579.9192435033, \\  15880.5386716344, \\  21546.3912194526, \\  28942.6633525542, \\  38515.2794714607, \\  50805.2634252909, \\  66465.0754364124, \\  86277.1216295907, \\  111174.646070637, \\  142265.228328275, \\  180857.123078901, \\  228488.692177098, \\  286961.193915164, \\  358375.20889262, \\  445170.997011476, \\  550173.095605229, \\  676639.484598865, \\  828315.660883759, \\  1009493.98077519, \\  1225078.64650121, \\  1480656.73014993, \\  1782575.64637783, \\  2138027.50345442, \\  2555140.78088849, \\  3043079.80094869, \\  3612152.4808553, \\  4273926.87228191, \\  5041357.01506484, \\  5928918.6526737, \\  6952755.37805081, \\  8130835.79987682, \\  9483122.34116857, \\  11031752.3043597, \\  12801231.8596574, \\  14818643.6365078, \\  17113868.6214392, \\  19719823.0893879, \\  22672711.3198391, \\  26012294.8737489, \\  29782179.2322341, \\  34030118.6234431, \\  38808339.88984, \\  44173886.2743505, \\  50188982.0304351, \\  56921418.788166, \\  64444964.6357905, \\  72839796.9040765, \\  82192959.6689322, \\  92598847.0163974, \\  104159713.143101, \\  116986210.394674, \\  131197956.374397, \\  146924131.284564, \\  164304106.693603, \\  183488106.953021, \\  204637904.519573, \\  227927550.469876, \\  253544141.526842, \\  281688624.949877, \\  312576642.67378, \\  346439416.114619, \\  383524673.094647, \\  424097618.372485, \\  468441949.299323, \\  516860918.156898, \\  569678442.768325, \\  627240267.008618, \\  689915172.877888, \\  758096245.836762, \\  832202195.140469, \\  912678730.945451, \\  1000000000.0, \\  0.0, \\  1.08372338095097 \\cdot 10^{-8}, \\  2.7743318552345 \\cdot 10^{-6}, \\  7.11030910241935 \\cdot 10^{-5}, \\  0.000710228954940031, \\  0.00423329445683975, \\  0.0182023913021935, \\  0.0624744963022956, \\  0.181818612464648, \\  0.466507380209733, \\  1.08372338095098, \\  2.32305731254188, \\  4.65981217336155, \\  8.84026454907697, \\  15.9934710533877, \\  27.7746449313256, \\  46.5455647909499, \\  75.5979143865444, \\  119.425889333692, \\  184.054843593865, \\  277.43318552345, \\  409.895170239361, \\  594.702672010721, \\  848.674457343273, \\  1192.91191638056, \\  1653.63064720303, \\  2263.1077245637, \\  3060.75492155606, \\  4094.32858966725, \\  5421.28733962692, \\  7110.30910241935, \\  9242.97958678345, \\  11915.6645864832, \\  15241.5790275873, \\  19353.0660829554, \\  24404.1001180842, \\  30573.0276694251, \\  38065.561093241, \\  47118.0399600295, \\  58000.975706494, \\  71022.8954940031, \\  86534.5016594374, \\  104933.163581277, \\  126667.759220739, \\  152243.884034745, \\  182229.445394427, \\  217260.661079878, \\  258048.480858765, \\  305385.450593422, \\  360153.03875797, \\  423329.445683974, \\  495997.916290118, \\  579355.577488308, \\  674722.821895612, \\  783553.259918351, \\  907444.262711671, \\  1048148.11895481, \\  1207583.82881935, \\  1387849.55894449, \\  1591235.78267066, \\  1820239.13021935, \\  2077576.9739444, \\  2366202.77421656, \\  2689322.21194045, \\  3050410.13413969, \\  3453228.33948319, \\  3901844.23106234, \\  4400650.36416593, \\  4954384.91723657, \\  5568153.11462922, \\  6247449.63022956, \\  6998182.00142687, \\  7826695.08337282, \\  8739796.57389488, \\  9744783.6398697, \\  10849470.676299, \\  12062218.2297676, \\  13391963.1183987, \\  14848249.7808625, \\  16441262.8874245, \\  18181861.2464648, \\  20081613.0403293, \\  22152832.424816, \\  24408617.5270334, \\  26862889.8768068, \\  29530435.3072439, \\  32426946.3605091, \\  35569066.2352922, \\  38974434.3128946, \\  42661733.2992922, \\  46650738.0209733, \\  50962365.9127835, \\  55618729.2364488, \\  60643189.0688863, \\  66060411.0998438, \\  71896423.2788536, \\  78178675.3519161, \\  84936100.3287695, \\  92199177.9220404, \\  100000000.0, \\  0.0, \\  1.07288614714147 \\cdot 10^{-7}, \\  1.37329426834108 \\cdot 10^{-5}, \\  0.000234640200379839, \\  0.00175781666347658, \\  0.0083819230245427, \\  0.0300339456486193, \\  0.0883567876275324, \\  0.225000532925002, \\  0.513158118230707, \\  1.07288614714147, \\  2.09075158128769, \\  3.84434504302327, \\  6.73220146429707, \\  11.3096688163241, \\  18.3312656546749, \\  28.8000682144002, \\  44.0246677898112, \\  65.6842391335305, \\  95.9022606094351, \\  137.329426834108, \\  193.236294541413, \\  267.616202404824, \\  365.299005552105, \\  492.076165506979, \\  654.837736292398, \\  861.721787430026, \\  1122.27680457055, \\  1447.63760848949, \\  1850.71533318298, \\  2346.40200379838, \\  2951.79025513407, \\  3686.40873144323, \\  4572.47370827618, \\  5635.15747709583, \\  6902.87403340097, \\  8407.5826090919, \\  10185.1095898131, \\  12275.4893580077, \\  14723.3246024177, \\  17578.1666347658, \\  20894.916254352, \\  24734.2457013009, \\  29163.0422391934, \\  34254.8739078175, \\  40090.4779867739, \\  46758.2727106694, \\  54354.8927766335, \\  62985.7491848933, \\  72765.6139531409, \\  83819.2302454269, \\  96281.948456317, \\  110300.388791043, \\  126033.130882388, \\  143651.430985031, \\  163339.967288101, \\  185297.613886655, \\  209738.243952835, \\  236891.562647422, \\  267003.970312534, \\  300339.456486193, \\  337180.525279501, \\  377829.152657161, \\  422607.776162071, \\  471860.317624733, \\  525953.239398209, \\  585276.634659351, \\  650245.352317056, \\  721300.157068266, \\  798908.925142453, \\  883567.876275324, \\  975802.842452479, \\  1076170.57396376, \\  1185260.08330903, \\  1303694.02749608, \\  1432130.12927147, \\  1571262.63782499, \\  1721823.82950841, \\  1884585.54910947, \\  2060360.79222155, \\  2250005.32925002, \\  2454419.37159581, \\  2674549.28055705, \\  2911389.31948953, \\  3165983.44976651, \\  3439427.171079, \\  3732869.40661675, \\  4047514.43367119, \\  4384623.86020064, \\  4745518.6478988, \\  5131581.18230706, \\  5544257.39051161, \\  5985058.90696568, \\  6455565.28797821, \\  6957426.27540908, \\  7492364.11011212, \\  8062175.89566635, \\  8668736.01293627, \\  9313998.58600204, \\  10000000.0, \\  0.0, \\  1.06215728567005 \\cdot 10^{-6}, \\  6.79780662828832 \\cdot 10^{-5}, \\  0.000774312661253467, \\  0.00435059624210453, \\  0.0165962075885945, \\  0.0495560103202219, \\  0.124961742501796, \\  0.27843815949469, \\  0.564473930053777, \\  1.06215728567005, \\  1.88167642315892, \\  3.1715846604942, \\  5.12683034588777, \\  7.99755152011493, \\  12.0986353320854, \\  17.8200422076601, \\  25.6378947717136, \\  36.1263315234417, \\  49.9701252649162, \\  67.9780662828833, \\  91.0971102838091, \\  120.427291082171, \\  157.237398041993, \\  202.981418271629, \\  259.31574357179, \\  328.117142136817, \\  411.501495009204, \\  511.843297287356, \\  631.795924086605, \\  774.312661253467, \\  942.668500833138, \\  1140.48270129025, \\  1371.74211248285, \\  1640.82526538967, \\  1952.52722659056, \\  2312.08521750027, \\  2725.20499835541, \\  3198.08801695464, \\  3737.45932215219, \\  4350.59624210453, \\  5045.35782727035, \\  5830.21505816378, \\  6714.2818178608, \\  7707.34662925894, \\  8819.90515709027, \\  10063.1934746875, \\  11449.2220955036, \\  12990.8107693842, \\  14701.6240435938, \\  16596.2075885945, \\  18690.0252885792, \\  20999.4970967563, \\  23542.0376553894, \\  26336.095680589, \\  29401.1941118581, \\  32757.9710263908, \\  36428.2213181239, \\  40434.9391415427, \\  44802.3611202388, \\  49556.0103202219, \\  54722.7409879846, \\  60330.7840533208, \\  66409.7933968968, \\  72990.892882576, \\  80106.7241544964, \\  87791.4951989026, \\  96081.0296707291, \\  105012.816984939, \\  114626.063172613, \\  124961.742501796, \\  136062.649863092, \\  147973.453920017, \\  160740.751024101, \\  174413.119894746, \\  189041.177063835, \\  204677.633085097, \\  221377.349508224, \\  239197.39661774, \\  258197.111936624, \\  278438.15949469, \\  299984.58986171, \\  322902.900945303, \\  347262.09955357, \\  373133.763722482, \\  400592.105808025, \\  429714.036343091, \\  460579.228659135, \\  493270.184272572, \\  527872.299035933, \\  564473.930053777, \\  603166.46336335, \\  644044.382380003, \\  687205.337107358, \\  732750.214112233, \\  780783.207264315, \\  831411.889240592, \\  884747.283794527, \\  940903.938790002, \\  1000000.0, \\  0.0, \\  1.05153571281335 \\cdot 10^{-5}, \\  0.000336491428100272, \\  0.00255523178213644, \\  0.0107677256992087, \\  0.0328604910254172, \\  0.0817674170283661, \\  0.17673160725254, \\  0.344567222374679, \\  0.620921323059155, \\  1.05153571281335, \\  1.69350878084303, \\  2.61655734490772, \\  3.90427849417607, \\  5.65541143208127, \\  7.98509931917638, \\  11.0261511159897, \\  14.9303034258802, \\  19.869482337893, \\  26.0370652696142, \\  33.6491428100272, \\  42.9457805623672, \\  54.1922809869769, \\  67.6804452441621, \\  83.7298350370469, \\  102.689034454429, \\  124.936911813634, \\  150.883881503375, \\  180.973165826601, \\  215.682056843358, \\  255.523178213644, \\  301.04574704026, \\  352.836835711671, \\  411.522633744856, \\  477.769709628168, \\  552.286272664187, \\  635.823434812575, \\  729.176472532933, \\  833.186088627655, \\  948.739674084786, \\  1076.77256992087, \\  1218.26932902382, \\  1374.26497799575, \\  1545.84627899586, \\  1734.15299158326, \\  1940.37913455986, \\  2165.77424781319, \\  2411.64465415928, \\  2679.3547211855, \\  2970.32812309344, \\  3286.04910254172, \\  3628.0637324889, \\  3997.9811780363, \\  4397.47495827086, \\  4828.28420810799, \\  5292.21494013446, \\  5791.14130645122, \\  6327.00686051626, \\  6901.82581898747, \\  7517.6843235655, \\  8176.74170283661, \\  8881.23173411554, \\  9633.46390528833, \\  10435.8246766552, \\  11290.7787427735, \\  12200.8702943002, \\  13168.7242798354, \\  14197.0476677645, \\  15288.6307081014, \\  16446.3481943314, \\  17673.160725254, \\  18972.1159668255, \\  20346.3499140024, \\  21799.0881525836, \\  23333.6471210539, \\  24953.4353724262, \\  26661.954836085, \\  28462.8020796288, \\  30359.6695707131, \\  32356.3469388934, \\  34456.7222374679, \\  36664.78320532, \\  38984.6185287621, \\  41420.4191033776, \\  43976.479295864, \\  46657.1982058758, \\  49467.0809278674, \\  52410.7398129361, \\  55492.8957306644, \\  58718.3793309634, \\  62092.1323059155, \\  65619.2086516173, \\  69304.775930022, \\  73154.1165307833, \\  77172.6289330969, \\  81365.8289675445, \\  85739.351077936, \\  90298.9495831527, \\  95050.49993899, \\  100000.0, \\  0.0, \\  0.000104102035568522, \\  0.00166563256909635, \\  0.00843226488105026, \\  0.0266501211055415, \\  0.0650637722303261, \\  0.134916238096804, \\  0.249948987400021, \\  0.426401937688665, \\  0.683013455365071, \\  1.04102035568522, \\  1.52415790275873, \\  2.15865980954887, \\  2.97325823787255, \\  3.99918379840033, \\  5.27016555065641, \\  6.82243100301864, \\  8.6947061127185, \\  10.9282152858411, \\  13.5666813773253, \\  16.6563256909635, \\  20.2458679794017, \\  24.3865264441396, \\  29.1320177355307, \\  34.5385569527819, \\  40.6648576439538, \\  47.5721318059608, \\  55.3240898845707, \\  63.9869407744053, \\  73.6293918189396, \\  84.3226488105026, \\  96.1404159902767, \\  109.158896048298, \\  123.456790123457, \\  139.115297803496, \\  156.218117125013, \\  174.851444573458, \\  195.103975083136, \\  217.066902037205, \\  240.833917267676, \\  266.501211055416, \\  294.167472130141, \\  323.933887670427, \\  355.904143303697, \\  390.184423106234, \\  426.883409603169, \\  466.112283768491, \\  507.984725025039, \\  552.61691124451, \\  600.127518747449, \\  650.63772230326, \\  704.271195130198, \\  761.154108895372, \\  821.415133714745, \\  885.185438153131, \\  952.598689224203, \\  1023.79105239048, \\  1098.90119156335, \\  1178.07026910303, \\  1261.44194581862, \\  1349.16238096804, \\  1441.3802322581, \\  1538.24665584443, \\  1639.91530633153, \\  1746.54233677277, \\  1858.28639867034, \\  1975.30864197531, \\  2097.77271508758, \\  2225.84476485594, \\  2359.69343657798, \\  2499.48987400021, \\  2645.40771931793, \\  2797.62311317533, \\  2956.31469466545, \\  3121.66360133018, \\  3293.85346916026, \\  3473.07043259528, \\  3659.5031245237, \\  3853.34267628282, \\  4054.7827176588, \\  4264.01937688665, \\  4481.25128065023, \\  4706.67955408226, \\  4940.50782076432, \\  5182.94220272682, \\  5434.19132044906, \\  5694.46629285916, \\  5963.9807373341, \\  6242.95076969974, \\  6531.59500423076, \\  6830.1345536507, \\  7138.79302913199, \\  7457.79654029585, \\  7787.37369521241, \\  8127.75560040063, \\  8479.17586082832, \\  8841.87057991215, \\  9216.07835951765, \\  9602.04029995919, \\  10000.0, \\  0.0, \\  0.00103061015212836, \\  0.00824488121702692, \\  0.0278264741074658, \\  0.0659590497362153, \\  0.128826269016046, \\  0.222611792859727, \\  0.353499282180029, \\  0.527672397889723, \\  0.751314800901578, \\  1.03061015212836, \\  1.37174211248285, \\  1.78089434287781, \\  2.26425050422602, \\  2.82799425744023, \\  3.47830926343323, \\  4.22137918311778, \\  5.06338767740665, \\  6.01051840721262, \\  7.06895503344845, \\  8.24488121702692, \\  9.54448061886078, \\  10.9739368998628, \\  12.5394337209458, \\  14.2471547430225, \\  16.1032836270057, \\  18.1140040338081, \\  20.2854996243426, \\  22.6239540595219, \\  25.1355510002587, \\  27.8264741074658, \\  30.7029070420561, \\  33.7710334649422, \\  37.037037037037, \\  40.5071014192532, \\  44.1874102725036, \\  48.084147257701, \\  52.2034960357581, \\  56.5516402675876, \\  61.1347636141025, \\  65.9590497362153, \\  71.030682294839, \\  76.3558449508863, \\  81.9407213652699, \\  87.7914951989026, \\  93.9143501126972, \\  100.315469767566, \\  107.001037824423, \\  113.97723794418, \\  121.25025378775, \\  128.826269016046, \\  136.71146728998, \\  144.912032270465, \\  153.434147618415, \\  162.283996994741, \\  171.467764060357, \\  180.991632476175, \\  190.861785903108, \\  201.084408002069, \\  211.665682433971, \\  222.611792859727, \\  233.928922940248, \\  245.623256336449, \\  257.700976709241, \\  270.168267719538, \\  283.031313028252, \\  296.296296296296, \\  309.969401184583, \\  324.056811354026, \\  338.564710465537, \\  353.499282180029, \\  368.866710158415, \\  384.673178061608, \\  400.92486955052, \\  417.627968286064, \\  434.788657929154, \\  452.413122140701, \\  470.507544581619, \\  489.07810891282, \\  508.130998795217, \\  527.672397889723, \\  547.70848985725, \\  568.245458358712, \\  589.289487055021, \\  610.84675960709, \\  632.923459675832, \\  655.525770922159, \\  678.659877006984, \\  702.331961591221, \\  726.548208335781, \\  751.314800901578, \\  776.637922949524, \\  802.523758140532, \\  828.978490135515, \\  856.008302595386, \\  883.619379181056, \\  911.817903553441, \\  940.610059373451, \\  970.002030302, \\  1000.0, \\  0.0, \\  0.0102030405060708, \\  0.0408121620242832, \\  0.0918273645546373, \\  0.163248648097133, \\  0.25507601265177, \\  0.367309458218549, \\  0.49994898479747, \\  0.652994592388532, \\  0.826446280991735, \\  1.02030405060708, \\  1.23456790123457, \\  1.4692378328742, \\  1.72431384552597, \\  1.99979593918988, \\  2.29568411386593, \\  2.61197836955413, \\  2.94867870625446, \\  3.30578512396694, \\  3.68329762269156, \\  4.08121620242832, \\  4.49954086317723, \\  4.93827160493827, \\  5.39740842771146, \\  5.87695133149679, \\  6.37690031629425, \\  6.89725538210387, \\  7.43801652892562, \\  7.99918375675951, \\  8.58075706560555, \\  9.18273645546373, \\  9.80512192633405, \\  10.4479134782165, \\  11.1111111111111, \\  11.7947148250179, \\  12.4987246199367, \\  13.2231404958678, \\  13.9679624528109, \\  14.7331904907662, \\  15.5188246097337, \\  16.3248648097133, \\  17.151311090705, \\  17.9981634527089, \\  18.8654218957249, \\  19.7530864197531, \\  20.6611570247934, \\  21.5896337108458, \\  22.5385164779104, \\  23.5078053259871, \\  24.497500255076, \\  25.507601265177, \\  26.5381083562902, \\  27.5890215284155, \\  28.6603407815529, \\  29.7520661157025, \\  30.8641975308642, \\  31.9967350270381, \\  33.1496786042241, \\  34.3230282624222, \\  35.5167840016325, \\  36.7309458218549, \\  37.9655137230895, \\  39.2204877053362, \\  40.495867768595, \\  41.791653912866, \\  43.1078461381492, \\  44.4444444444444, \\  45.8014488317519, \\  47.1788593000714, \\  48.5766758494031, \\  49.994898479747, \\  51.4335271911029, \\  52.8925619834711, \\  54.3720028568513, \\  55.8718498112438, \\  57.3921028466483, \\  58.932761963065, \\  60.4938271604938, \\  62.0752984389348, \\  63.6771757983879, \\  65.2994592388532, \\  66.9421487603306, \\  68.6052443628201, \\  70.2887460463218, \\  71.9926538108356, \\  73.7169676563616, \\  75.4616875828997, \\  77.2268135904499, \\  79.0123456790124, \\  80.8182838485869, \\  82.6446280991735, \\  84.4913784307724, \\  86.3585348433833, \\  88.2460973370064, \\  90.1540659116417, \\  92.082440567289, \\  94.0312213039486, \\  96.0004081216202, \\  97.9900010203041, \\  100.0, \\  0.0, \\  0.101010101010101, \\  0.202020202020202, \\  0.303030303030303, \\  0.404040404040404, \\  0.505050505050505, \\  0.606060606060606, \\  0.707070707070707, \\  0.808080808080808, \\  0.909090909090909, \\  1.01010101010101, \\  1.11111111111111, \\  1.21212121212121, \\  1.31313131313131, \\  1.41414141414141, \\  1.51515151515152, \\  1.61616161616162, \\  1.71717171717172, \\  1.81818181818182, \\  1.91919191919192, \\  2.02020202020202, \\  2.12121212121212, \\  2.22222222222222, \\  2.32323232323232, \\  2.42424242424242, \\  2.52525252525253, \\  2.62626262626263, \\  2.72727272727273, \\  2.82828282828283, \\  2.92929292929293, \\  3.03030303030303, \\  3.13131313131313, \\  3.23232323232323, \\  3.33333333333333, \\  3.43434343434343, \\  3.53535353535354, \\  3.63636363636364, \\  3.73737373737374, \\  3.83838383838384, \\  3.93939393939394, \\  4.04040404040404, \\  4.14141414141414, \\  4.24242424242424, \\  4.34343434343434, \\  4.44444444444444, \\  4.54545454545454, \\  4.64646464646465, \\  4.74747474747475, \\  4.84848484848485, \\  4.94949494949495, \\  5.05050505050505, \\  5.15151515151515, \\  5.25252525252525, \\  5.35353535353535, \\  5.45454545454545, \\  5.55555555555556, \\  5.65656565656566, \\  5.75757575757576, \\  5.85858585858586, \\  5.95959595959596, \\  6.06060606060606, \\  6.16161616161616, \\  6.26262626262626, \\  6.36363636363636, \\  6.46464646464646, \\  6.56565656565657, \\  6.66666666666667, \\  6.76767676767677, \\  6.86868686868687, \\  6.96969696969697, \\  7.07070707070707, \\  7.17171717171717, \\  7.27272727272727, \\  7.37373737373737, \\  7.47474747474747, \\  7.57575757575758, \\  7.67676767676768, \\  7.77777777777778, \\  7.87878787878788, \\  7.97979797979798, \\  8.08080808080808, \\  8.18181818181818, \\  8.28282828282828, \\  8.38383838383838, \\  8.48484848484848, \\  8.58585858585859, \\  8.68686868686869, \\  8.78787878787879, \\  8.88888888888889, \\  8.98989898989899, \\  9.09090909090909, \\  9.19191919191919, \\  9.29292929292929, \\  9.39393939393939, \\  9.49494949494949, \\  9.5959595959596, \\  9.6969696969697, \\  9.7979797979798, \\  9.8989898989899, \\  10.0, \\  1.0, \\  1.0, \\  1.0, \\  1.0, \\  1.0, \\  1.0, \\  1.0, \\  1.0, \\  1.0, \\  1.0, \\  1.0, \\  1.0, \\  1.0, \\  1.0, \\  1.0, \\  1.0, \\  1.0, \\  1.0, \\  1.0, \\  1.0, \\  1.0, \\  1.0, \\  1.0, \\  1.0, \\  1.0, \\  1.0, \\  1.0, \\  1.0, \\  1.0, \\  1.0, \\  1.0, \\  1.0, \\  1.0, \\  1.0, \\  1.0, \\  1.0, \\  1.0, \\  1.0, \\  1.0, \\  1.0, \\  1.0, \\  1.0, \\  1.0, \\  1.0, \\  1.0, \\  1.0, \\  1.0, \\  1.0, \\  1.0, \\  1.0, \\  1.0, \\  1.0, \\  1.0, \\  1.0, \\  1.0, \\  1.0, \\  1.0, \\  1.0, \\  1.0, \\  1.0, \\  1.0, \\  1.0, \\  1.0, \\  1.0, \\  1.0, \\  1.0, \\  1.0, \\  1.0, \\  1.0, \\  1.0, \\  1.0, \\  1.0, \\  1.0, \\  1.0, \\  1.0, \\  1.0, \\  1.0, \\  1.0, \\  1.0, \\  1.0, \\  1.0, \\  1.0, \\  1.0, \\  1.0, \\  1.0, \\  1.0, \\  1.0, \\  1.0, \\  1.0, \\  1.0, \\  1.0, \\  1.0, \\  1.0, \\  1.0, \\  1.0, \\  1.0, \\  1.0, \\  1.0, \\  1.0, \\  1.0\\right]$"
          },
          "metadata": {},
          "execution_count": 31
        }
      ]
    },
    {
      "cell_type": "code",
      "source": [
        "sub_lista = np.array_split(phi_v, orden+1)\n",
        "sub_lista .reverse()\n",
        "#sub_lista "
      ],
      "metadata": {
        "id": "fd5D0NwfTEgK"
      },
      "execution_count": null,
      "outputs": []
    },
    {
      "cell_type": "code",
      "source": [
        "phi = np.array(sub_lista).transpose()\n",
        "#phi"
      ],
      "metadata": {
        "id": "aK0QxOSGZdCn"
      },
      "execution_count": null,
      "outputs": []
    },
    {
      "cell_type": "code",
      "source": [
        "A = np.dot(phi.transpose(),phi)\n",
        "Mpr = np.linalg.inv(A)\n",
        "#Mpr"
      ],
      "metadata": {
        "id": "5kjdwpsmVl3A"
      },
      "execution_count": null,
      "outputs": []
    },
    {
      "cell_type": "code",
      "source": [
        "B = np.dot(phi.transpose(),y)\n",
        "theta = np.dot(Mpr,B)\n",
        "theta"
      ],
      "metadata": {
        "colab": {
          "base_uri": "https://localhost:8080/"
        },
        "id": "gc6iyOZkVrpy",
        "outputId": "ce83d283-05ab-403f-fc45-f2db8d075795"
      },
      "execution_count": null,
      "outputs": [
        {
          "output_type": "execute_result",
          "data": {
            "text/plain": [
              "array([-1.10104286e+01,  9.93276548e+00,  7.54353523e-01, -6.60890388e+00,\n",
              "        5.92984772e+00, -2.94855404e+00,  9.07256603e-01, -1.73167467e-01,\n",
              "        1.92705542e-02, -1.05740875e-03,  4.86517383e-05, -1.64559533e-05,\n",
              "        3.18458660e-06, -2.89732384e-07,  1.30719329e-08, -2.38606135e-10])"
            ]
          },
          "metadata": {},
          "execution_count": 36
        }
      ]
    },
    {
      "cell_type": "code",
      "source": [
        "vector_invertido = theta[::-1]\n",
        "vector_invertido"
      ],
      "metadata": {
        "colab": {
          "base_uri": "https://localhost:8080/"
        },
        "id": "lvdE8Tn3V2g5",
        "outputId": "b35b3c71-71f5-4fd0-b1bc-df393666cbbb"
      },
      "execution_count": null,
      "outputs": [
        {
          "output_type": "execute_result",
          "data": {
            "text/plain": [
              "array([-2.38606135e-10,  1.30719329e-08, -2.89732384e-07,  3.18458660e-06,\n",
              "       -1.64559533e-05,  4.86517383e-05, -1.05740875e-03,  1.92705542e-02,\n",
              "       -1.73167467e-01,  9.07256603e-01, -2.94855404e+00,  5.92984772e+00,\n",
              "       -6.60890388e+00,  7.54353523e-01,  9.93276548e+00, -1.10104286e+01])"
            ]
          },
          "metadata": {},
          "execution_count": 37
        }
      ]
    },
    {
      "cell_type": "code",
      "source": [
        "y_e = np.polyval(vector_invertido,t)"
      ],
      "metadata": {
        "id": "qL2e_BlvV9z7"
      },
      "execution_count": null,
      "outputs": []
    },
    {
      "cell_type": "markdown",
      "source": [
        "**Señal**"
      ],
      "metadata": {
        "id": "enAOgZd3dAT3"
      }
    },
    {
      "cell_type": "markdown",
      "source": [
        "**Con un polinomio de orden = 2** \n",
        "\n",
        "---\n",
        "\n"
      ],
      "metadata": {
        "id": "jWSbukP4fX89"
      }
    },
    {
      "cell_type": "code",
      "source": [
        "plt.plot(t,y)\n",
        "plt.plot(t,y_e)\n",
        "plt.plot(t,y_x)"
      ],
      "metadata": {
        "colab": {
          "base_uri": "https://localhost:8080/",
          "height": 282
        },
        "id": "jCtkMX0OWDIR",
        "outputId": "aa016a84-56fb-4d0e-aa6e-38528da9d432"
      },
      "execution_count": null,
      "outputs": [
        {
          "output_type": "execute_result",
          "data": {
            "text/plain": [
              "[<matplotlib.lines.Line2D at 0x7f401231f0a0>]"
            ]
          },
          "metadata": {},
          "execution_count": 22
        },
        {
          "output_type": "display_data",
          "data": {
            "text/plain": [
              "<Figure size 432x288 with 1 Axes>"
            ],
            "image/png": "[encoded data removed]"
          },
          "metadata": {
            "needs_background": "light"
          }
        }
      ]
    },
    {
      "cell_type": "markdown",
      "source": [
        "**Con polinomio de orden = 8**"
      ],
      "metadata": {
        "id": "oT8GJ7yafsKu"
      }
    },
    {
      "cell_type": "code",
      "source": [
        "plt.plot(t,y)\n",
        "plt.plot(t,y_e)\n",
        "plt.plot(t,y_x)"
      ],
      "metadata": {
        "colab": {
          "base_uri": "https://localhost:8080/",
          "height": 282
        },
        "id": "StLWzA_pfzCA",
        "outputId": "29959f27-821c-4781-ea09-77b5626d1446"
      },
      "execution_count": null,
      "outputs": [
        {
          "output_type": "execute_result",
          "data": {
            "text/plain": [
              "[<matplotlib.lines.Line2D at 0x7f40122b1cd0>]"
            ]
          },
          "metadata": {},
          "execution_count": 30
        },
        {
          "output_type": "display_data",
          "data": {
            "text/plain": [
              "<Figure size 432x288 with 1 Axes>"
            ],
            "image/png": "[encoded data removed]"
          },
          "metadata": {
            "needs_background": "light"
          }
        }
      ]
    },
    {
      "cell_type": "markdown",
      "source": [
        "**Con polinomio de orden = 15**\n",
        "\n"
      ],
      "metadata": {
        "id": "CH2-uTqKf9WM"
      }
    },
    {
      "cell_type": "code",
      "source": [
        "plt.plot(t,y)\n",
        "plt.plot(t,y_e)\n",
        "plt.plot(t,y_x)"
      ],
      "metadata": {
        "colab": {
          "base_uri": "https://localhost:8080/",
          "height": 286
        },
        "id": "16ATFDXggALn",
        "outputId": "428f2601-758e-402b-abaf-fc9a2b3a5fde"
      },
      "execution_count": null,
      "outputs": [
        {
          "output_type": "execute_result",
          "data": {
            "text/plain": [
              "[<matplotlib.lines.Line2D at 0x7f401227be20>]"
            ]
          },
          "metadata": {},
          "execution_count": 39
        },
        {
          "output_type": "display_data",
          "data": {
            "text/plain": [
              "<Figure size 432x288 with 1 Axes>"
            ],
            "image/png": "[encoded data removed]"
          },
          "metadata": {
            "needs_background": "light"
          }
        }
      ]
    },
    {
      "cell_type": "markdown",
      "source": [
        "**Conclusiones**\n",
        "\n",
        "Se puede concluir que el número de orden del polinomio utilizado en la regresión puede afectar significativamente los resultados de la regresión.\n",
        "\n",
        "En general, el uso de un polinomio de orden superior permite que el modelo de regresión se ajuste mejor a los datos observados, ya que se pueden capturar patrones más complejos en los datos. Sin embargo, un polinomio de orden demasiado alto puede sobreajustar los datos y generar que no pueda generalizar bien a nuevos datos.\n",
        "\n",
        "Por otro lado, el uso de un polinomio de orden bajo puede no ser suficiente para capturar la complejidad de los datos y puede llevar a una subestimación del modelo.\n",
        "\n",
        "En conclusión, el número de orden del polinomio es un factor crítico en la regresión y debe ser seleccionado cuidadosamente para evitar el sobreajuste o la subestimación del modelo."
      ],
      "metadata": {
        "id": "RdBldnsQgKT5"
      }
    }
  ]
}