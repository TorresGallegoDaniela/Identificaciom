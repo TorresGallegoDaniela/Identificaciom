{
  "nbformat": 4,
  "nbformat_minor": 0,
  "metadata": {
    "colab": {
      "provenance": []
    },
    "kernelspec": {
      "name": "python3",
      "display_name": "Python 3"
    },
    "language_info": {
      "name": "python"
    }
  },
  "cells": [
    {
      "cell_type": "code",
      "execution_count": 195,
      "metadata": {
        "colab": {
          "base_uri": "https://localhost:8080/"
        },
        "id": "4ncIGoLPgPcJ",
        "outputId": "a2b38dcd-850e-40d7-ce16-6515234bd024"
      },
      "outputs": [
        {
          "output_type": "stream",
          "name": "stdout",
          "text": [
            "Looking in indexes: https://pypi.org/simple, https://us-python.pkg.dev/colab-wheels/public/simple/\n",
            "Requirement already satisfied: control in /usr/local/lib/python3.9/dist-packages (0.9.3.post2)\n",
            "Requirement already satisfied: matplotlib in /usr/local/lib/python3.9/dist-packages (from control) (3.7.1)\n",
            "Requirement already satisfied: scipy>=1.3 in /usr/local/lib/python3.9/dist-packages (from control) (1.10.1)\n",
            "Requirement already satisfied: numpy in /usr/local/lib/python3.9/dist-packages (from control) (1.22.4)\n",
            "Requirement already satisfied: packaging>=20.0 in /usr/local/lib/python3.9/dist-packages (from matplotlib->control) (23.0)\n",
            "Requirement already satisfied: pillow>=6.2.0 in /usr/local/lib/python3.9/dist-packages (from matplotlib->control) (8.4.0)\n",
            "Requirement already satisfied: pyparsing>=2.3.1 in /usr/local/lib/python3.9/dist-packages (from matplotlib->control) (3.0.9)\n",
            "Requirement already satisfied: python-dateutil>=2.7 in /usr/local/lib/python3.9/dist-packages (from matplotlib->control) (2.8.2)\n",
            "Requirement already satisfied: kiwisolver>=1.0.1 in /usr/local/lib/python3.9/dist-packages (from matplotlib->control) (1.4.4)\n",
            "Requirement already satisfied: importlib-resources>=3.2.0 in /usr/local/lib/python3.9/dist-packages (from matplotlib->control) (5.12.0)\n",
            "Requirement already satisfied: cycler>=0.10 in /usr/local/lib/python3.9/dist-packages (from matplotlib->control) (0.11.0)\n",
            "Requirement already satisfied: fonttools>=4.22.0 in /usr/local/lib/python3.9/dist-packages (from matplotlib->control) (4.39.2)\n",
            "Requirement already satisfied: contourpy>=1.0.1 in /usr/local/lib/python3.9/dist-packages (from matplotlib->control) (1.0.7)\n",
            "Requirement already satisfied: zipp>=3.1.0 in /usr/local/lib/python3.9/dist-packages (from importlib-resources>=3.2.0->matplotlib->control) (3.15.0)\n",
            "Requirement already satisfied: six>=1.5 in /usr/local/lib/python3.9/dist-packages (from python-dateutil>=2.7->matplotlib->control) (1.16.0)\n"
          ]
        }
      ],
      "source": [
        "from sympy import MatrixSymbol, Matrix, Identity\n",
        "!pip install control\n",
        "import sympy as sym\n",
        "import pandas as pd\n",
        "\n",
        "sym.init_printing()\n",
        "%matplotlib inline\n",
        "\n",
        "import pandas as pd\n",
        "import numpy as np\n",
        "import matplotlib.pyplot as plt\n",
        "import seaborn as sns\n",
        "import control\n",
        "import random"
      ]
    },
    {
      "cell_type": "markdown",
      "source": [
        "**Ecuación del movimiento uniformemente acelerado**\n",
        "\n",
        "$$y = \\frac{1}{2}g.t^2+v_0.t+y0$$"
      ],
      "metadata": {
        "id": "VJik0REn4_j5"
      }
    },
    {
      "cell_type": "code",
      "source": [
        "t = np.array([0,1,2,3,4])\n",
        "ym = np.array([0.07,35.096,60.409,75.900,81.609])\n",
        "vf = np.array([40,30.2,20.4,10.6,0.8])"
      ],
      "metadata": {
        "id": "e1Ia6Qp8gVT-"
      },
      "execution_count": 196,
      "outputs": []
    },
    {
      "cell_type": "code",
      "source": [
        "data_experimento = pd.DataFrame(data = {'t':t,'ym':ym,'vf':vf})\n",
        "data_experimento "
      ],
      "metadata": {
        "colab": {
          "base_uri": "https://localhost:8080/",
          "height": 206
        },
        "id": "qVXHwH4tImtA",
        "outputId": "da0db993-b8b2-4199-dd14-a2b2812950a0"
      },
      "execution_count": 197,
      "outputs": [
        {
          "output_type": "execute_result",
          "data": {
            "text/plain": [
              "   t      ym    vf\n",
              "0  0   0.070  40.0\n",
              "1  1  35.096  30.2\n",
              "2  2  60.409  20.4\n",
              "3  3  75.900  10.6\n",
              "4  4  81.609   0.8"
            ],
            "text/html": [
              "\n",
              "  <div id=\"df-85871536-8707-41c2-975a-533be2f76457\">\n",
              "    <div class=\"colab-df-container\">\n",
              "      <div>\n",
              "<style scoped>\n",
              "    .dataframe tbody tr th:only-of-type {\n",
              "        vertical-align: middle;\n",
              "    }\n",
              "\n",
              "    .dataframe tbody tr th {\n",
              "        vertical-align: top;\n",
              "    }\n",
              "\n",
              "    .dataframe thead th {\n",
              "        text-align: right;\n",
              "    }\n",
              "</style>\n",
              "<table border=\"1\" class=\"dataframe\">\n",
              "  <thead>\n",
              "    <tr style=\"text-align: right;\">\n",
              "      <th></th>\n",
              "      <th>t</th>\n",
              "      <th>ym</th>\n",
              "      <th>vf</th>\n",
              "    </tr>\n",
              "  </thead>\n",
              "  <tbody>\n",
              "    <tr>\n",
              "      <th>0</th>\n",
              "      <td>0</td>\n",
              "      <td>0.070</td>\n",
              "      <td>40.0</td>\n",
              "    </tr>\n",
              "    <tr>\n",
              "      <th>1</th>\n",
              "      <td>1</td>\n",
              "      <td>35.096</td>\n",
              "      <td>30.2</td>\n",
              "    </tr>\n",
              "    <tr>\n",
              "      <th>2</th>\n",
              "      <td>2</td>\n",
              "      <td>60.409</td>\n",
              "      <td>20.4</td>\n",
              "    </tr>\n",
              "    <tr>\n",
              "      <th>3</th>\n",
              "      <td>3</td>\n",
              "      <td>75.900</td>\n",
              "      <td>10.6</td>\n",
              "    </tr>\n",
              "    <tr>\n",
              "      <th>4</th>\n",
              "      <td>4</td>\n",
              "      <td>81.609</td>\n",
              "      <td>0.8</td>\n",
              "    </tr>\n",
              "  </tbody>\n",
              "</table>\n",
              "</div>\n",
              "      <button class=\"colab-df-convert\" onclick=\"convertToInteractive('df-85871536-8707-41c2-975a-533be2f76457')\"\n",
              "              title=\"Convert this dataframe to an interactive table.\"\n",
              "              style=\"display:none;\">\n",
              "        \n",
              "  <svg xmlns=\"http://www.w3.org/2000/svg\" height=\"24px\"viewBox=\"0 0 24 24\"\n",
              "       width=\"24px\">\n",
              "    <path d=\"M0 0h24v24H0V0z\" fill=\"none\"/>\n",
              "    <path d=\"M18.56 5.44l.94 2.06.94-2.06 2.06-.94-2.06-.94-.94-2.06-.94 2.06-2.06.94zm-11 1L8.5 8.5l.94-2.06 2.06-.94-2.06-.94L8.5 2.5l-.94 2.06-2.06.94zm10 10l.94 2.06.94-2.06 2.06-.94-2.06-.94-.94-2.06-.94 2.06-2.06.94z\"/><path d=\"M17.41 7.96l-1.37-1.37c-.4-.4-.92-.59-1.43-.59-.52 0-1.04.2-1.43.59L10.3 9.45l-7.72 7.72c-.78.78-.78 2.05 0 2.83L4 21.41c.39.39.9.59 1.41.59.51 0 1.02-.2 1.41-.59l7.78-7.78 2.81-2.81c.8-.78.8-2.07 0-2.86zM5.41 20L4 18.59l7.72-7.72 1.47 1.35L5.41 20z\"/>\n",
              "  </svg>\n",
              "      </button>\n",
              "      \n",
              "  <style>\n",
              "    .colab-df-container {\n",
              "      display:flex;\n",
              "      flex-wrap:wrap;\n",
              "      gap: 12px;\n",
              "    }\n",
              "\n",
              "    .colab-df-convert {\n",
              "      background-color: #E8F0FE;\n",
              "      border: none;\n",
              "      border-radius: 50%;\n",
              "      cursor: pointer;\n",
              "      display: none;\n",
              "      fill: #1967D2;\n",
              "      height: 32px;\n",
              "      padding: 0 0 0 0;\n",
              "      width: 32px;\n",
              "    }\n",
              "\n",
              "    .colab-df-convert:hover {\n",
              "      background-color: #E2EBFA;\n",
              "      box-shadow: 0px 1px 2px rgba(60, 64, 67, 0.3), 0px 1px 3px 1px rgba(60, 64, 67, 0.15);\n",
              "      fill: #174EA6;\n",
              "    }\n",
              "\n",
              "    [theme=dark] .colab-df-convert {\n",
              "      background-color: #3B4455;\n",
              "      fill: #D2E3FC;\n",
              "    }\n",
              "\n",
              "    [theme=dark] .colab-df-convert:hover {\n",
              "      background-color: #434B5C;\n",
              "      box-shadow: 0px 1px 3px 1px rgba(0, 0, 0, 0.15);\n",
              "      filter: drop-shadow(0px 1px 2px rgba(0, 0, 0, 0.3));\n",
              "      fill: #FFFFFF;\n",
              "    }\n",
              "  </style>\n",
              "\n",
              "      <script>\n",
              "        const buttonEl =\n",
              "          document.querySelector('#df-85871536-8707-41c2-975a-533be2f76457 button.colab-df-convert');\n",
              "        buttonEl.style.display =\n",
              "          google.colab.kernel.accessAllowed ? 'block' : 'none';\n",
              "\n",
              "        async function convertToInteractive(key) {\n",
              "          const element = document.querySelector('#df-85871536-8707-41c2-975a-533be2f76457');\n",
              "          const dataTable =\n",
              "            await google.colab.kernel.invokeFunction('convertToInteractive',\n",
              "                                                     [key], {});\n",
              "          if (!dataTable) return;\n",
              "\n",
              "          const docLinkHtml = 'Like what you see? Visit the ' +\n",
              "            '<a target=\"_blank\" href=https://colab.research.google.com/notebooks/data_table.ipynb>data table notebook</a>'\n",
              "            + ' to learn more about interactive tables.';\n",
              "          element.innerHTML = '';\n",
              "          dataTable['output_type'] = 'display_data';\n",
              "          await google.colab.output.renderOutput(dataTable, element);\n",
              "          const docLink = document.createElement('div');\n",
              "          docLink.innerHTML = docLinkHtml;\n",
              "          element.appendChild(docLink);\n",
              "        }\n",
              "      </script>\n",
              "    </div>\n",
              "  </div>\n",
              "  "
            ]
          },
          "metadata": {},
          "execution_count": 197
        }
      ]
    },
    {
      "cell_type": "code",
      "source": [
        "data = pd.DataFrame(data = {'t':t,'y':ym})\n",
        "data['ones'] = 1\n",
        "data"
      ],
      "metadata": {
        "colab": {
          "base_uri": "https://localhost:8080/",
          "height": 206
        },
        "id": "QSAeASTSrNiW",
        "outputId": "e250827c-4cec-44b6-8f46-fa131c64dcdf"
      },
      "execution_count": 198,
      "outputs": [
        {
          "output_type": "execute_result",
          "data": {
            "text/plain": [
              "   t       y  ones\n",
              "0  0   0.070     1\n",
              "1  1  35.096     1\n",
              "2  2  60.409     1\n",
              "3  3  75.900     1\n",
              "4  4  81.609     1"
            ],
            "text/html": [
              "\n",
              "  <div id=\"df-cdd067f3-1e99-4e1d-aff8-51e7ae86f3e5\">\n",
              "    <div class=\"colab-df-container\">\n",
              "      <div>\n",
              "<style scoped>\n",
              "    .dataframe tbody tr th:only-of-type {\n",
              "        vertical-align: middle;\n",
              "    }\n",
              "\n",
              "    .dataframe tbody tr th {\n",
              "        vertical-align: top;\n",
              "    }\n",
              "\n",
              "    .dataframe thead th {\n",
              "        text-align: right;\n",
              "    }\n",
              "</style>\n",
              "<table border=\"1\" class=\"dataframe\">\n",
              "  <thead>\n",
              "    <tr style=\"text-align: right;\">\n",
              "      <th></th>\n",
              "      <th>t</th>\n",
              "      <th>y</th>\n",
              "      <th>ones</th>\n",
              "    </tr>\n",
              "  </thead>\n",
              "  <tbody>\n",
              "    <tr>\n",
              "      <th>0</th>\n",
              "      <td>0</td>\n",
              "      <td>0.070</td>\n",
              "      <td>1</td>\n",
              "    </tr>\n",
              "    <tr>\n",
              "      <th>1</th>\n",
              "      <td>1</td>\n",
              "      <td>35.096</td>\n",
              "      <td>1</td>\n",
              "    </tr>\n",
              "    <tr>\n",
              "      <th>2</th>\n",
              "      <td>2</td>\n",
              "      <td>60.409</td>\n",
              "      <td>1</td>\n",
              "    </tr>\n",
              "    <tr>\n",
              "      <th>3</th>\n",
              "      <td>3</td>\n",
              "      <td>75.900</td>\n",
              "      <td>1</td>\n",
              "    </tr>\n",
              "    <tr>\n",
              "      <th>4</th>\n",
              "      <td>4</td>\n",
              "      <td>81.609</td>\n",
              "      <td>1</td>\n",
              "    </tr>\n",
              "  </tbody>\n",
              "</table>\n",
              "</div>\n",
              "      <button class=\"colab-df-convert\" onclick=\"convertToInteractive('df-cdd067f3-1e99-4e1d-aff8-51e7ae86f3e5')\"\n",
              "              title=\"Convert this dataframe to an interactive table.\"\n",
              "              style=\"display:none;\">\n",
              "        \n",
              "  <svg xmlns=\"http://www.w3.org/2000/svg\" height=\"24px\"viewBox=\"0 0 24 24\"\n",
              "       width=\"24px\">\n",
              "    <path d=\"M0 0h24v24H0V0z\" fill=\"none\"/>\n",
              "    <path d=\"M18.56 5.44l.94 2.06.94-2.06 2.06-.94-2.06-.94-.94-2.06-.94 2.06-2.06.94zm-11 1L8.5 8.5l.94-2.06 2.06-.94-2.06-.94L8.5 2.5l-.94 2.06-2.06.94zm10 10l.94 2.06.94-2.06 2.06-.94-2.06-.94-.94-2.06-.94 2.06-2.06.94z\"/><path d=\"M17.41 7.96l-1.37-1.37c-.4-.4-.92-.59-1.43-.59-.52 0-1.04.2-1.43.59L10.3 9.45l-7.72 7.72c-.78.78-.78 2.05 0 2.83L4 21.41c.39.39.9.59 1.41.59.51 0 1.02-.2 1.41-.59l7.78-7.78 2.81-2.81c.8-.78.8-2.07 0-2.86zM5.41 20L4 18.59l7.72-7.72 1.47 1.35L5.41 20z\"/>\n",
              "  </svg>\n",
              "      </button>\n",
              "      \n",
              "  <style>\n",
              "    .colab-df-container {\n",
              "      display:flex;\n",
              "      flex-wrap:wrap;\n",
              "      gap: 12px;\n",
              "    }\n",
              "\n",
              "    .colab-df-convert {\n",
              "      background-color: #E8F0FE;\n",
              "      border: none;\n",
              "      border-radius: 50%;\n",
              "      cursor: pointer;\n",
              "      display: none;\n",
              "      fill: #1967D2;\n",
              "      height: 32px;\n",
              "      padding: 0 0 0 0;\n",
              "      width: 32px;\n",
              "    }\n",
              "\n",
              "    .colab-df-convert:hover {\n",
              "      background-color: #E2EBFA;\n",
              "      box-shadow: 0px 1px 2px rgba(60, 64, 67, 0.3), 0px 1px 3px 1px rgba(60, 64, 67, 0.15);\n",
              "      fill: #174EA6;\n",
              "    }\n",
              "\n",
              "    [theme=dark] .colab-df-convert {\n",
              "      background-color: #3B4455;\n",
              "      fill: #D2E3FC;\n",
              "    }\n",
              "\n",
              "    [theme=dark] .colab-df-convert:hover {\n",
              "      background-color: #434B5C;\n",
              "      box-shadow: 0px 1px 3px 1px rgba(0, 0, 0, 0.15);\n",
              "      filter: drop-shadow(0px 1px 2px rgba(0, 0, 0, 0.3));\n",
              "      fill: #FFFFFF;\n",
              "    }\n",
              "  </style>\n",
              "\n",
              "      <script>\n",
              "        const buttonEl =\n",
              "          document.querySelector('#df-cdd067f3-1e99-4e1d-aff8-51e7ae86f3e5 button.colab-df-convert');\n",
              "        buttonEl.style.display =\n",
              "          google.colab.kernel.accessAllowed ? 'block' : 'none';\n",
              "\n",
              "        async function convertToInteractive(key) {\n",
              "          const element = document.querySelector('#df-cdd067f3-1e99-4e1d-aff8-51e7ae86f3e5');\n",
              "          const dataTable =\n",
              "            await google.colab.kernel.invokeFunction('convertToInteractive',\n",
              "                                                     [key], {});\n",
              "          if (!dataTable) return;\n",
              "\n",
              "          const docLinkHtml = 'Like what you see? Visit the ' +\n",
              "            '<a target=\"_blank\" href=https://colab.research.google.com/notebooks/data_table.ipynb>data table notebook</a>'\n",
              "            + ' to learn more about interactive tables.';\n",
              "          element.innerHTML = '';\n",
              "          dataTable['output_type'] = 'display_data';\n",
              "          await google.colab.output.renderOutput(dataTable, element);\n",
              "          const docLink = document.createElement('div');\n",
              "          docLink.innerHTML = docLinkHtml;\n",
              "          element.appendChild(docLink);\n",
              "        }\n",
              "      </script>\n",
              "    </div>\n",
              "  </div>\n",
              "  "
            ]
          },
          "metadata": {},
          "execution_count": 198
        }
      ]
    },
    {
      "cell_type": "code",
      "source": [
        "plt.scatter(t,ym, label ='ym')\n",
        "plt.legend()\n",
        "plt.grid()"
      ],
      "metadata": {
        "colab": {
          "base_uri": "https://localhost:8080/",
          "height": 265
        },
        "id": "9P85Aqnaruxg",
        "outputId": "8296bcf2-0656-45cf-83f0-387946b43a5e"
      },
      "execution_count": 199,
      "outputs": [
        {
          "output_type": "display_data",
          "data": {
            "text/plain": [
              "<Figure size 432x288 with 1 Axes>"
            ],
            "image/png": "[encoded data removed]"
          },
          "metadata": {
            "needs_background": "light"
          }
        }
      ]
    },
    {
      "cell_type": "code",
      "source": [
        "t0 = t**0\n",
        "t1 = t**1\n",
        "t2 = t**2\n",
        "# Calculando la matriz Moore - Penrose\n",
        "phi = np.array([t0, t1, t2]).transpose()\n",
        "phi"
      ],
      "metadata": {
        "id": "rPPalDOI7y1M",
        "colab": {
          "base_uri": "https://localhost:8080/"
        },
        "outputId": "cf427e93-3b3f-42cc-dff5-3c7ef0459f19"
      },
      "execution_count": 200,
      "outputs": [
        {
          "output_type": "execute_result",
          "data": {
            "text/plain": [
              "array([[ 1,  0,  0],\n",
              "       [ 1,  1,  1],\n",
              "       [ 1,  2,  4],\n",
              "       [ 1,  3,  9],\n",
              "       [ 1,  4, 16]])"
            ]
          },
          "metadata": {},
          "execution_count": 200
        }
      ]
    },
    {
      "cell_type": "markdown",
      "source": [
        "**Matriz W**"
      ],
      "metadata": {
        "id": "d7qFYFj6FTa0"
      }
    },
    {
      "cell_type": "markdown",
      "source": [
        "**Método de WLS, W**"
      ],
      "metadata": {
        "id": "rGcCz_RRLCTY"
      }
    },
    {
      "cell_type": "code",
      "source": [
        "var = np.var(ym)\n",
        "#var = np.array([10,10,10,10,10])\n",
        "#0.0013\n",
        "_var = var**0.0013\n",
        "N = 5\n",
        "\n",
        "W = np.eye(N)*var\n",
        "_W = np.eye(N)*_var\n",
        "_W"
      ],
      "metadata": {
        "id": "aLisFec7sGU6",
        "colab": {
          "base_uri": "https://localhost:8080/"
        },
        "outputId": "73fb5376-99f6-4f14-d737-a26af7c8b98f"
      },
      "execution_count": 283,
      "outputs": [
        {
          "output_type": "execute_result",
          "data": {
            "text/plain": [
              "array([[1.00887985, 0.        , 0.        , 0.        , 0.        ],\n",
              "       [0.        , 1.00887985, 0.        , 0.        , 0.        ],\n",
              "       [0.        , 0.        , 1.00887985, 0.        , 0.        ],\n",
              "       [0.        , 0.        , 0.        , 1.00887985, 0.        ],\n",
              "       [0.        , 0.        , 0.        , 0.        , 1.00887985]])"
            ]
          },
          "metadata": {},
          "execution_count": 283
        }
      ]
    },
    {
      "cell_type": "code",
      "source": [
        "## Vectores \"y\" y \"phi\" Normalizados usando W\n",
        "_y = np.dot(_W,ym)\n",
        "_phi = np.dot(_W,phi)"
      ],
      "metadata": {
        "id": "vCDZqpEStGOA"
      },
      "execution_count": 215,
      "outputs": []
    },
    {
      "cell_type": "code",
      "source": [
        "## Calculando los estimados THETA\n",
        "phi_pr = np.dot(_phi.transpose(),_phi)\n",
        "A = np.linalg.inv(phi_pr)\n",
        "B = np.dot(phi.transpose(),_y)\n",
        "\n",
        "## Vector de parámetros estimados\n",
        "theta = np.dot(A,B)\n",
        "#theta\n",
        "#array([ 253.084,  710.05 , 2265.576])\n",
        "theta"
      ],
      "metadata": {
        "colab": {
          "base_uri": "https://localhost:8080/"
        },
        "id": "ncBoj4llzJQx",
        "outputId": "612db079-c73d-4dae-d78d-c4fb79282353"
      },
      "execution_count": 217,
      "outputs": [
        {
          "output_type": "execute_result",
          "data": {
            "text/plain": [
              "array([ 0.06043478, 39.59545526, -4.8466765 ])"
            ]
          },
          "metadata": {},
          "execution_count": 217
        }
      ]
    },
    {
      "cell_type": "code",
      "source": [
        "g = theta[2]*(-2)\n",
        "v = theta[1]\n",
        "y0 = theta[0]\n",
        "\n",
        "(\"gravedad: \",g, \"v0: \", v, \"y0:\", y0)"
      ],
      "metadata": {
        "id": "rC-LXCfxMenu",
        "outputId": "6dc15c03-0f16-4fcd-ca9f-35457b853900",
        "colab": {
          "base_uri": "https://localhost:8080/"
        }
      },
      "execution_count": 218,
      "outputs": [
        {
          "output_type": "execute_result",
          "data": {
            "text/plain": [
              "('gravedad: ',\n",
              " 9.693353006160983,\n",
              " 'v0: ',\n",
              " 39.59545525740613,\n",
              " 'y0:',\n",
              " 0.060434776543338196)"
            ]
          },
          "metadata": {},
          "execution_count": 218
        }
      ]
    },
    {
      "cell_type": "code",
      "source": [
        "##  Estimación vs Medición\n",
        "y_e = theta[2]*(t**2)+theta[1]*t+theta[0] \n",
        "plt.figure(figsize=(8,4))\n",
        "plt.title(\"Estimación vs Medición\")\n",
        "plt.scatter(t,ym, label = \"y_Medición\")\n",
        "plt.scatter(t,y_e, label = \"y_Estimacion\")\n",
        "\n",
        "plt.legend()\n",
        "plt.grid()"
      ],
      "metadata": {
        "colab": {
          "base_uri": "https://localhost:8080/",
          "height": 281
        },
        "id": "cyWoxJDQzMAD",
        "outputId": "cb9525a3-0e34-4dbc-98de-c112619cc04e"
      },
      "execution_count": 208,
      "outputs": [
        {
          "output_type": "display_data",
          "data": {
            "text/plain": [
              "<Figure size 576x288 with 1 Axes>"
            ],
            "image/png": "[encoded data removed]"
          },
          "metadata": {
            "needs_background": "light"
          }
        }
      ]
    },
    {
      "cell_type": "code",
      "source": [
        "##  Estimación vs Medición\n",
        "y_e = theta[2]*(t**2)+theta[1]*t+theta[0] \n",
        "plt.figure(figsize=(8,4))\n",
        "plt.title(\"Estimación vs Medición\")\n",
        "plt.scatter(t,ym, label = \"y_Medición\")\n",
        "plt.scatter(t,y_e, label = \"y_Estimacion\")\n",
        "\n",
        "plt.legend()\n",
        "plt.grid()"
      ],
      "metadata": {
        "id": "GomG5t52ms9k",
        "colab": {
          "base_uri": "https://localhost:8080/",
          "height": 281
        },
        "outputId": "c95154a3-12e2-43ae-f13a-dd4b49a5d15c"
      },
      "execution_count": 213,
      "outputs": [
        {
          "output_type": "display_data",
          "data": {
            "text/plain": [
              "<Figure size 576x288 with 1 Axes>"
            ],
            "image/png": "[encoded data removed]"
          },
          "metadata": {
            "needs_background": "light"
          }
        }
      ]
    },
    {
      "cell_type": "code",
      "source": [
        "##  Estimación vs Medición\n",
        "y_e = theta[2]*(t**2)+theta[1]*t+theta[0] \n",
        "plt.figure(figsize=(8,4))\n",
        "plt.title(\"Estimación vs Medición\")\n",
        "plt.scatter(t,ym, label = \"y_Medición\")\n",
        "plt.scatter(t,y_e, label = \"y_Estimacion\")\n",
        "\n",
        "plt.legend()\n",
        "plt.grid()"
      ],
      "metadata": {
        "colab": {
          "base_uri": "https://localhost:8080/",
          "height": 281
        },
        "id": "B564xgIekyFk",
        "outputId": "15156ffb-9e6c-45e5-b3c0-35335361909f"
      },
      "execution_count": 232,
      "outputs": [
        {
          "output_type": "display_data",
          "data": {
            "text/plain": [
              "<Figure size 576x288 with 1 Axes>"
            ],
            "image/png": "[encoded data removed]"
          },
          "metadata": {
            "needs_background": "light"
          }
        }
      ]
    },
    {
      "cell_type": "markdown",
      "source": [
        "**Método de mínimos cuadrados regularizados y experimente con el valor de $\\alpha$**"
      ],
      "metadata": {
        "id": "WaFKNEoWlwVX"
      }
    },
    {
      "cell_type": "code",
      "source": [
        "## Calculando los estimados THETA\n",
        "phi_pr = np.dot(phi.transpose(),phi)\n",
        "A = np.linalg.inv(phi_pr+0.01*np.eye(3))\n",
        "B = np.dot(phi.transpose(),ym)\n",
        "\n",
        "## Vector de parámetros estimados\n",
        "theta = np.dot(A,B)\n",
        "phi_pr+0.1*np.eye(3)"
      ],
      "metadata": {
        "colab": {
          "base_uri": "https://localhost:8080/"
        },
        "id": "yZ3bMZhXxBDk",
        "outputId": "4416b54b-5621-4029-e0b2-2e8c4b532468"
      },
      "execution_count": 277,
      "outputs": [
        {
          "output_type": "execute_result",
          "data": {
            "text/plain": [
              "array([[  5.1,  10. ,  30. ],\n",
              "       [ 10. ,  30.1, 100. ],\n",
              "       [ 30. , 100. , 354.1]])"
            ]
          },
          "metadata": {},
          "execution_count": 277
        }
      ]
    },
    {
      "cell_type": "code",
      "source": [
        "g = theta[2]*(-2)\n",
        "v = theta[1]\n",
        "y0 = theta[0]\n",
        "\n",
        "(\"gravedad: \",g, \"v0: \", v, \"y0:\", y0)"
      ],
      "metadata": {
        "colab": {
          "base_uri": "https://localhost:8080/"
        },
        "id": "i9dvmHOusG9H",
        "outputId": "279e5aeb-4195-492e-d033-85274b7b11a4"
      },
      "execution_count": 278,
      "outputs": [
        {
          "output_type": "execute_result",
          "data": {
            "text/plain": [
              "('gravedad: ',\n",
              " 9.54825642728069,\n",
              " 'v0: ',\n",
              " 39.44600449535765,\n",
              " 'y0:',\n",
              " 0.3688226458355603)"
            ]
          },
          "metadata": {},
          "execution_count": 278
        }
      ]
    },
    {
      "cell_type": "code",
      "source": [
        "##  Estimación vs Medición\n",
        "y_e = theta[2]*(t**2)+theta[1]*t+theta[0] \n",
        "plt.figure(figsize=(8,4))\n",
        "plt.title(\"Estimación vs Medición\")\n",
        "plt.scatter(t,ym, label = \"y_Medición\")\n",
        "plt.scatter(t,y_e, label = \"y_Estimacion\")\n",
        "\n",
        "plt.legend()\n",
        "plt.grid()"
      ],
      "metadata": {
        "colab": {
          "base_uri": "https://localhost:8080/",
          "height": 281
        },
        "id": "xL2A5_x8sKFO",
        "outputId": "52882fb6-a0df-4b05-97d9-be343769012f"
      },
      "execution_count": 279,
      "outputs": [
        {
          "output_type": "display_data",
          "data": {
            "text/plain": [
              "<Figure size 576x288 with 1 Axes>"
            ],
            "image/png": "[encoded data removed]"
          },
          "metadata": {
            "needs_background": "light"
          }
        }
      ]
    },
    {
      "cell_type": "markdown",
      "source": [
        "**Conclusion**\n",
        "\n",
        "En el método de WLS con W, los pesos se asignaron de formas experimental variando el valor de la varianza del conjunto de 'y'. En cuanto a la observación de que los valores que mejor estimaron los coeficientes fueron los más bajos dentro de un rango de pesos experimentales, esto puede deberse a que asignar pesos demasiado altos a las observaciones con menor varianza puede llevar a sobreponderarlas y, en consecuencia, a subestimar la variabilidad real del modelo. Por lo tanto, es importante encontrar un equilibrio adecuado entre la asignación de pesos que reflejen la variabilidad de los datos y que no sobreponderen las observaciones con menor varianza en exceso.En conclusion se observo que la precisión de los resultados obtenidos depende de la precisión de los pesos W asignados \n"
      ],
      "metadata": {
        "id": "1DL0mr5klErs"
      }
    },
    {
      "cell_type": "markdown",
      "source": [
        "En cuanto al experimento variando el valor de $\\alpha$, se observo que para este caso en particular, variar el valor de $\\alpha$ no alteraba de manera significativa el valor de los coeficientes estimados. Sin embargo, esto no es necesariamente cierto en todos los casos."
      ],
      "metadata": {
        "id": "z0sd8Ozk4jg9"
      }
    }
  ]
}